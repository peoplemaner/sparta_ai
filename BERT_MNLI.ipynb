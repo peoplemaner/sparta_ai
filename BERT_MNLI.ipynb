{
 "cells": [
  {
   "cell_type": "code",
   "execution_count": 1,
   "metadata": {
    "colab": {
     "base_uri": "https://localhost:8080/"
    },
    "collapsed": true,
    "executionInfo": {
     "elapsed": 95786,
     "status": "ok",
     "timestamp": 1744889474985,
     "user": {
      "displayName": "si hyeok",
      "userId": "14050594561017177394"
     },
     "user_tz": -540
    },
    "id": "UeHRwq3aR-bc",
    "outputId": "103aa1f8-531f-4c41-a0e9-69374426fbb3"
   },
   "outputs": [
    {
     "name": "stdout",
     "output_type": "stream",
     "text": [
      "Requirement already satisfied: transformers in /usr/local/lib/python3.11/dist-packages (4.51.1)\n",
      "Collecting datasets\n",
      "  Downloading datasets-3.5.0-py3-none-any.whl.metadata (19 kB)\n",
      "Collecting evaluate\n",
      "  Downloading evaluate-0.4.3-py3-none-any.whl.metadata (9.2 kB)\n",
      "Requirement already satisfied: accelerate in /usr/local/lib/python3.11/dist-packages (1.5.2)\n",
      "Requirement already satisfied: scikit-learn in /usr/local/lib/python3.11/dist-packages (1.6.1)\n",
      "Requirement already satisfied: filelock in /usr/local/lib/python3.11/dist-packages (from transformers) (3.18.0)\n",
      "Requirement already satisfied: huggingface-hub<1.0,>=0.30.0 in /usr/local/lib/python3.11/dist-packages (from transformers) (0.30.2)\n",
      "Requirement already satisfied: numpy>=1.17 in /usr/local/lib/python3.11/dist-packages (from transformers) (2.0.2)\n",
      "Requirement already satisfied: packaging>=20.0 in /usr/local/lib/python3.11/dist-packages (from transformers) (24.2)\n",
      "Requirement already satisfied: pyyaml>=5.1 in /usr/local/lib/python3.11/dist-packages (from transformers) (6.0.2)\n",
      "Requirement already satisfied: regex!=2019.12.17 in /usr/local/lib/python3.11/dist-packages (from transformers) (2024.11.6)\n",
      "Requirement already satisfied: requests in /usr/local/lib/python3.11/dist-packages (from transformers) (2.32.3)\n",
      "Requirement already satisfied: tokenizers<0.22,>=0.21 in /usr/local/lib/python3.11/dist-packages (from transformers) (0.21.1)\n",
      "Requirement already satisfied: safetensors>=0.4.3 in /usr/local/lib/python3.11/dist-packages (from transformers) (0.5.3)\n",
      "Requirement already satisfied: tqdm>=4.27 in /usr/local/lib/python3.11/dist-packages (from transformers) (4.67.1)\n",
      "Requirement already satisfied: pyarrow>=15.0.0 in /usr/local/lib/python3.11/dist-packages (from datasets) (18.1.0)\n",
      "Collecting dill<0.3.9,>=0.3.0 (from datasets)\n",
      "  Downloading dill-0.3.8-py3-none-any.whl.metadata (10 kB)\n",
      "Requirement already satisfied: pandas in /usr/local/lib/python3.11/dist-packages (from datasets) (2.2.2)\n",
      "Collecting xxhash (from datasets)\n",
      "  Downloading xxhash-3.5.0-cp311-cp311-manylinux_2_17_x86_64.manylinux2014_x86_64.whl.metadata (12 kB)\n",
      "Collecting multiprocess<0.70.17 (from datasets)\n",
      "  Downloading multiprocess-0.70.16-py311-none-any.whl.metadata (7.2 kB)\n",
      "Collecting fsspec<=2024.12.0,>=2023.1.0 (from fsspec[http]<=2024.12.0,>=2023.1.0->datasets)\n",
      "  Downloading fsspec-2024.12.0-py3-none-any.whl.metadata (11 kB)\n",
      "Requirement already satisfied: aiohttp in /usr/local/lib/python3.11/dist-packages (from datasets) (3.11.15)\n",
      "Requirement already satisfied: psutil in /usr/local/lib/python3.11/dist-packages (from accelerate) (5.9.5)\n",
      "Requirement already satisfied: torch>=2.0.0 in /usr/local/lib/python3.11/dist-packages (from accelerate) (2.6.0+cu124)\n",
      "Requirement already satisfied: scipy>=1.6.0 in /usr/local/lib/python3.11/dist-packages (from scikit-learn) (1.14.1)\n",
      "Requirement already satisfied: joblib>=1.2.0 in /usr/local/lib/python3.11/dist-packages (from scikit-learn) (1.4.2)\n",
      "Requirement already satisfied: threadpoolctl>=3.1.0 in /usr/local/lib/python3.11/dist-packages (from scikit-learn) (3.6.0)\n",
      "Requirement already satisfied: aiohappyeyeballs>=2.3.0 in /usr/local/lib/python3.11/dist-packages (from aiohttp->datasets) (2.6.1)\n",
      "Requirement already satisfied: aiosignal>=1.1.2 in /usr/local/lib/python3.11/dist-packages (from aiohttp->datasets) (1.3.2)\n",
      "Requirement already satisfied: attrs>=17.3.0 in /usr/local/lib/python3.11/dist-packages (from aiohttp->datasets) (25.3.0)\n",
      "Requirement already satisfied: frozenlist>=1.1.1 in /usr/local/lib/python3.11/dist-packages (from aiohttp->datasets) (1.5.0)\n",
      "Requirement already satisfied: multidict<7.0,>=4.5 in /usr/local/lib/python3.11/dist-packages (from aiohttp->datasets) (6.4.2)\n",
      "Requirement already satisfied: propcache>=0.2.0 in /usr/local/lib/python3.11/dist-packages (from aiohttp->datasets) (0.3.1)\n",
      "Requirement already satisfied: yarl<2.0,>=1.17.0 in /usr/local/lib/python3.11/dist-packages (from aiohttp->datasets) (1.19.0)\n",
      "Requirement already satisfied: typing-extensions>=3.7.4.3 in /usr/local/lib/python3.11/dist-packages (from huggingface-hub<1.0,>=0.30.0->transformers) (4.13.1)\n",
      "Requirement already satisfied: charset-normalizer<4,>=2 in /usr/local/lib/python3.11/dist-packages (from requests->transformers) (3.4.1)\n",
      "Requirement already satisfied: idna<4,>=2.5 in /usr/local/lib/python3.11/dist-packages (from requests->transformers) (3.10)\n",
      "Requirement already satisfied: urllib3<3,>=1.21.1 in /usr/local/lib/python3.11/dist-packages (from requests->transformers) (2.3.0)\n",
      "Requirement already satisfied: certifi>=2017.4.17 in /usr/local/lib/python3.11/dist-packages (from requests->transformers) (2025.1.31)\n",
      "Requirement already satisfied: networkx in /usr/local/lib/python3.11/dist-packages (from torch>=2.0.0->accelerate) (3.4.2)\n",
      "Requirement already satisfied: jinja2 in /usr/local/lib/python3.11/dist-packages (from torch>=2.0.0->accelerate) (3.1.6)\n",
      "Collecting nvidia-cuda-nvrtc-cu12==12.4.127 (from torch>=2.0.0->accelerate)\n",
      "  Downloading nvidia_cuda_nvrtc_cu12-12.4.127-py3-none-manylinux2014_x86_64.whl.metadata (1.5 kB)\n",
      "Collecting nvidia-cuda-runtime-cu12==12.4.127 (from torch>=2.0.0->accelerate)\n",
      "  Downloading nvidia_cuda_runtime_cu12-12.4.127-py3-none-manylinux2014_x86_64.whl.metadata (1.5 kB)\n",
      "Collecting nvidia-cuda-cupti-cu12==12.4.127 (from torch>=2.0.0->accelerate)\n",
      "  Downloading nvidia_cuda_cupti_cu12-12.4.127-py3-none-manylinux2014_x86_64.whl.metadata (1.6 kB)\n",
      "Collecting nvidia-cudnn-cu12==9.1.0.70 (from torch>=2.0.0->accelerate)\n",
      "  Downloading nvidia_cudnn_cu12-9.1.0.70-py3-none-manylinux2014_x86_64.whl.metadata (1.6 kB)\n",
      "Collecting nvidia-cublas-cu12==12.4.5.8 (from torch>=2.0.0->accelerate)\n",
      "  Downloading nvidia_cublas_cu12-12.4.5.8-py3-none-manylinux2014_x86_64.whl.metadata (1.5 kB)\n",
      "Collecting nvidia-cufft-cu12==11.2.1.3 (from torch>=2.0.0->accelerate)\n",
      "  Downloading nvidia_cufft_cu12-11.2.1.3-py3-none-manylinux2014_x86_64.whl.metadata (1.5 kB)\n",
      "Collecting nvidia-curand-cu12==10.3.5.147 (from torch>=2.0.0->accelerate)\n",
      "  Downloading nvidia_curand_cu12-10.3.5.147-py3-none-manylinux2014_x86_64.whl.metadata (1.5 kB)\n",
      "Collecting nvidia-cusolver-cu12==11.6.1.9 (from torch>=2.0.0->accelerate)\n",
      "  Downloading nvidia_cusolver_cu12-11.6.1.9-py3-none-manylinux2014_x86_64.whl.metadata (1.6 kB)\n",
      "Collecting nvidia-cusparse-cu12==12.3.1.170 (from torch>=2.0.0->accelerate)\n",
      "  Downloading nvidia_cusparse_cu12-12.3.1.170-py3-none-manylinux2014_x86_64.whl.metadata (1.6 kB)\n",
      "Requirement already satisfied: nvidia-cusparselt-cu12==0.6.2 in /usr/local/lib/python3.11/dist-packages (from torch>=2.0.0->accelerate) (0.6.2)\n",
      "Requirement already satisfied: nvidia-nccl-cu12==2.21.5 in /usr/local/lib/python3.11/dist-packages (from torch>=2.0.0->accelerate) (2.21.5)\n",
      "Requirement already satisfied: nvidia-nvtx-cu12==12.4.127 in /usr/local/lib/python3.11/dist-packages (from torch>=2.0.0->accelerate) (12.4.127)\n",
      "Collecting nvidia-nvjitlink-cu12==12.4.127 (from torch>=2.0.0->accelerate)\n",
      "  Downloading nvidia_nvjitlink_cu12-12.4.127-py3-none-manylinux2014_x86_64.whl.metadata (1.5 kB)\n",
      "Requirement already satisfied: triton==3.2.0 in /usr/local/lib/python3.11/dist-packages (from torch>=2.0.0->accelerate) (3.2.0)\n",
      "Requirement already satisfied: sympy==1.13.1 in /usr/local/lib/python3.11/dist-packages (from torch>=2.0.0->accelerate) (1.13.1)\n",
      "Requirement already satisfied: mpmath<1.4,>=1.1.0 in /usr/local/lib/python3.11/dist-packages (from sympy==1.13.1->torch>=2.0.0->accelerate) (1.3.0)\n",
      "Requirement already satisfied: python-dateutil>=2.8.2 in /usr/local/lib/python3.11/dist-packages (from pandas->datasets) (2.8.2)\n",
      "Requirement already satisfied: pytz>=2020.1 in /usr/local/lib/python3.11/dist-packages (from pandas->datasets) (2025.2)\n",
      "Requirement already satisfied: tzdata>=2022.7 in /usr/local/lib/python3.11/dist-packages (from pandas->datasets) (2025.2)\n",
      "Requirement already satisfied: six>=1.5 in /usr/local/lib/python3.11/dist-packages (from python-dateutil>=2.8.2->pandas->datasets) (1.17.0)\n",
      "Requirement already satisfied: MarkupSafe>=2.0 in /usr/local/lib/python3.11/dist-packages (from jinja2->torch>=2.0.0->accelerate) (3.0.2)\n",
      "Downloading datasets-3.5.0-py3-none-any.whl (491 kB)\n",
      "\u001b[2K   \u001b[90m━━━━━━━━━━━━━━━━━━━━━━━━━━━━━━━━━━━━━━━━\u001b[0m \u001b[32m491.2/491.2 kB\u001b[0m \u001b[31m16.0 MB/s\u001b[0m eta \u001b[36m0:00:00\u001b[0m\n",
      "\u001b[?25hDownloading evaluate-0.4.3-py3-none-any.whl (84 kB)\n",
      "\u001b[2K   \u001b[90m━━━━━━━━━━━━━━━━━━━━━━━━━━━━━━━━━━━━━━━━\u001b[0m \u001b[32m84.0/84.0 kB\u001b[0m \u001b[31m8.1 MB/s\u001b[0m eta \u001b[36m0:00:00\u001b[0m\n",
      "\u001b[?25hDownloading dill-0.3.8-py3-none-any.whl (116 kB)\n",
      "\u001b[2K   \u001b[90m━━━━━━━━━━━━━━━━━━━━━━━━━━━━━━━━━━━━━━━━\u001b[0m \u001b[32m116.3/116.3 kB\u001b[0m \u001b[31m10.6 MB/s\u001b[0m eta \u001b[36m0:00:00\u001b[0m\n",
      "\u001b[?25hDownloading fsspec-2024.12.0-py3-none-any.whl (183 kB)\n",
      "\u001b[2K   \u001b[90m━━━━━━━━━━━━━━━━━━━━━━━━━━━━━━━━━━━━━━━━\u001b[0m \u001b[32m183.9/183.9 kB\u001b[0m \u001b[31m18.6 MB/s\u001b[0m eta \u001b[36m0:00:00\u001b[0m\n",
      "\u001b[?25hDownloading multiprocess-0.70.16-py311-none-any.whl (143 kB)\n",
      "\u001b[2K   \u001b[90m━━━━━━━━━━━━━━━━━━━━━━━━━━━━━━━━━━━━━━━━\u001b[0m \u001b[32m143.5/143.5 kB\u001b[0m \u001b[31m14.2 MB/s\u001b[0m eta \u001b[36m0:00:00\u001b[0m\n",
      "\u001b[?25hDownloading nvidia_cublas_cu12-12.4.5.8-py3-none-manylinux2014_x86_64.whl (363.4 MB)\n",
      "\u001b[2K   \u001b[90m━━━━━━━━━━━━━━━━━━━━━━━━━━━━━━━━━━━━━━━━\u001b[0m \u001b[32m363.4/363.4 MB\u001b[0m \u001b[31m4.3 MB/s\u001b[0m eta \u001b[36m0:00:00\u001b[0m\n",
      "\u001b[?25hDownloading nvidia_cuda_cupti_cu12-12.4.127-py3-none-manylinux2014_x86_64.whl (13.8 MB)\n",
      "\u001b[2K   \u001b[90m━━━━━━━━━━━━━━━━━━━━━━━━━━━━━━━━━━━━━━━━\u001b[0m \u001b[32m13.8/13.8 MB\u001b[0m \u001b[31m106.1 MB/s\u001b[0m eta \u001b[36m0:00:00\u001b[0m\n",
      "\u001b[?25hDownloading nvidia_cuda_nvrtc_cu12-12.4.127-py3-none-manylinux2014_x86_64.whl (24.6 MB)\n",
      "\u001b[2K   \u001b[90m━━━━━━━━━━━━━━━━━━━━━━━━━━━━━━━━━━━━━━━━\u001b[0m \u001b[32m24.6/24.6 MB\u001b[0m \u001b[31m81.9 MB/s\u001b[0m eta \u001b[36m0:00:00\u001b[0m\n",
      "\u001b[?25hDownloading nvidia_cuda_runtime_cu12-12.4.127-py3-none-manylinux2014_x86_64.whl (883 kB)\n",
      "\u001b[2K   \u001b[90m━━━━━━━━━━━━━━━━━━━━━━━━━━━━━━━━━━━━━━━━\u001b[0m \u001b[32m883.7/883.7 kB\u001b[0m \u001b[31m54.8 MB/s\u001b[0m eta \u001b[36m0:00:00\u001b[0m\n",
      "\u001b[?25hDownloading nvidia_cudnn_cu12-9.1.0.70-py3-none-manylinux2014_x86_64.whl (664.8 MB)\n",
      "\u001b[2K   \u001b[90m━━━━━━━━━━━━━━━━━━━━━━━━━━━━━━━━━━━━━━━━\u001b[0m \u001b[32m664.8/664.8 MB\u001b[0m \u001b[31m2.0 MB/s\u001b[0m eta \u001b[36m0:00:00\u001b[0m\n",
      "\u001b[?25hDownloading nvidia_cufft_cu12-11.2.1.3-py3-none-manylinux2014_x86_64.whl (211.5 MB)\n",
      "\u001b[2K   \u001b[90m━━━━━━━━━━━━━━━━━━━━━━━━━━━━━━━━━━━━━━━━\u001b[0m \u001b[32m211.5/211.5 MB\u001b[0m \u001b[31m5.7 MB/s\u001b[0m eta \u001b[36m0:00:00\u001b[0m\n",
      "\u001b[?25hDownloading nvidia_curand_cu12-10.3.5.147-py3-none-manylinux2014_x86_64.whl (56.3 MB)\n",
      "\u001b[2K   \u001b[90m━━━━━━━━━━━━━━━━━━━━━━━━━━━━━━━━━━━━━━━━\u001b[0m \u001b[32m56.3/56.3 MB\u001b[0m \u001b[31m15.2 MB/s\u001b[0m eta \u001b[36m0:00:00\u001b[0m\n",
      "\u001b[?25hDownloading nvidia_cusolver_cu12-11.6.1.9-py3-none-manylinux2014_x86_64.whl (127.9 MB)\n",
      "\u001b[2K   \u001b[90m━━━━━━━━━━━━━━━━━━━━━━━━━━━━━━━━━━━━━━━━\u001b[0m \u001b[32m127.9/127.9 MB\u001b[0m \u001b[31m9.3 MB/s\u001b[0m eta \u001b[36m0:00:00\u001b[0m\n",
      "\u001b[?25hDownloading nvidia_cusparse_cu12-12.3.1.170-py3-none-manylinux2014_x86_64.whl (207.5 MB)\n",
      "\u001b[2K   \u001b[90m━━━━━━━━━━━━━━━━━━━━━━━━━━━━━━━━━━━━━━━━\u001b[0m \u001b[32m207.5/207.5 MB\u001b[0m \u001b[31m6.5 MB/s\u001b[0m eta \u001b[36m0:00:00\u001b[0m\n",
      "\u001b[?25hDownloading nvidia_nvjitlink_cu12-12.4.127-py3-none-manylinux2014_x86_64.whl (21.1 MB)\n",
      "\u001b[2K   \u001b[90m━━━━━━━━━━━━━━━━━━━━━━━━━━━━━━━━━━━━━━━━\u001b[0m \u001b[32m21.1/21.1 MB\u001b[0m \u001b[31m60.9 MB/s\u001b[0m eta \u001b[36m0:00:00\u001b[0m\n",
      "\u001b[?25hDownloading xxhash-3.5.0-cp311-cp311-manylinux_2_17_x86_64.manylinux2014_x86_64.whl (194 kB)\n",
      "\u001b[2K   \u001b[90m━━━━━━━━━━━━━━━━━━━━━━━━━━━━━━━━━━━━━━━━\u001b[0m \u001b[32m194.8/194.8 kB\u001b[0m \u001b[31m17.1 MB/s\u001b[0m eta \u001b[36m0:00:00\u001b[0m\n",
      "\u001b[?25hInstalling collected packages: xxhash, nvidia-nvjitlink-cu12, nvidia-curand-cu12, nvidia-cufft-cu12, nvidia-cuda-runtime-cu12, nvidia-cuda-nvrtc-cu12, nvidia-cuda-cupti-cu12, nvidia-cublas-cu12, fsspec, dill, nvidia-cusparse-cu12, nvidia-cudnn-cu12, multiprocess, nvidia-cusolver-cu12, datasets, evaluate\n",
      "  Attempting uninstall: nvidia-nvjitlink-cu12\n",
      "    Found existing installation: nvidia-nvjitlink-cu12 12.5.82\n",
      "    Uninstalling nvidia-nvjitlink-cu12-12.5.82:\n",
      "      Successfully uninstalled nvidia-nvjitlink-cu12-12.5.82\n",
      "  Attempting uninstall: nvidia-curand-cu12\n",
      "    Found existing installation: nvidia-curand-cu12 10.3.6.82\n",
      "    Uninstalling nvidia-curand-cu12-10.3.6.82:\n",
      "      Successfully uninstalled nvidia-curand-cu12-10.3.6.82\n",
      "  Attempting uninstall: nvidia-cufft-cu12\n",
      "    Found existing installation: nvidia-cufft-cu12 11.2.3.61\n",
      "    Uninstalling nvidia-cufft-cu12-11.2.3.61:\n",
      "      Successfully uninstalled nvidia-cufft-cu12-11.2.3.61\n",
      "  Attempting uninstall: nvidia-cuda-runtime-cu12\n",
      "    Found existing installation: nvidia-cuda-runtime-cu12 12.5.82\n",
      "    Uninstalling nvidia-cuda-runtime-cu12-12.5.82:\n",
      "      Successfully uninstalled nvidia-cuda-runtime-cu12-12.5.82\n",
      "  Attempting uninstall: nvidia-cuda-nvrtc-cu12\n",
      "    Found existing installation: nvidia-cuda-nvrtc-cu12 12.5.82\n",
      "    Uninstalling nvidia-cuda-nvrtc-cu12-12.5.82:\n",
      "      Successfully uninstalled nvidia-cuda-nvrtc-cu12-12.5.82\n",
      "  Attempting uninstall: nvidia-cuda-cupti-cu12\n",
      "    Found existing installation: nvidia-cuda-cupti-cu12 12.5.82\n",
      "    Uninstalling nvidia-cuda-cupti-cu12-12.5.82:\n",
      "      Successfully uninstalled nvidia-cuda-cupti-cu12-12.5.82\n",
      "  Attempting uninstall: nvidia-cublas-cu12\n",
      "    Found existing installation: nvidia-cublas-cu12 12.5.3.2\n",
      "    Uninstalling nvidia-cublas-cu12-12.5.3.2:\n",
      "      Successfully uninstalled nvidia-cublas-cu12-12.5.3.2\n",
      "  Attempting uninstall: fsspec\n",
      "    Found existing installation: fsspec 2025.3.2\n",
      "    Uninstalling fsspec-2025.3.2:\n",
      "      Successfully uninstalled fsspec-2025.3.2\n",
      "  Attempting uninstall: nvidia-cusparse-cu12\n",
      "    Found existing installation: nvidia-cusparse-cu12 12.5.1.3\n",
      "    Uninstalling nvidia-cusparse-cu12-12.5.1.3:\n",
      "      Successfully uninstalled nvidia-cusparse-cu12-12.5.1.3\n",
      "  Attempting uninstall: nvidia-cudnn-cu12\n",
      "    Found existing installation: nvidia-cudnn-cu12 9.3.0.75\n",
      "    Uninstalling nvidia-cudnn-cu12-9.3.0.75:\n",
      "      Successfully uninstalled nvidia-cudnn-cu12-9.3.0.75\n",
      "  Attempting uninstall: nvidia-cusolver-cu12\n",
      "    Found existing installation: nvidia-cusolver-cu12 11.6.3.83\n",
      "    Uninstalling nvidia-cusolver-cu12-11.6.3.83:\n",
      "      Successfully uninstalled nvidia-cusolver-cu12-11.6.3.83\n",
      "\u001b[31mERROR: pip's dependency resolver does not currently take into account all the packages that are installed. This behaviour is the source of the following dependency conflicts.\n",
      "gcsfs 2025.3.2 requires fsspec==2025.3.2, but you have fsspec 2024.12.0 which is incompatible.\u001b[0m\u001b[31m\n",
      "\u001b[0mSuccessfully installed datasets-3.5.0 dill-0.3.8 evaluate-0.4.3 fsspec-2024.12.0 multiprocess-0.70.16 nvidia-cublas-cu12-12.4.5.8 nvidia-cuda-cupti-cu12-12.4.127 nvidia-cuda-nvrtc-cu12-12.4.127 nvidia-cuda-runtime-cu12-12.4.127 nvidia-cudnn-cu12-9.1.0.70 nvidia-cufft-cu12-11.2.1.3 nvidia-curand-cu12-10.3.5.147 nvidia-cusolver-cu12-11.6.1.9 nvidia-cusparse-cu12-12.3.1.170 nvidia-nvjitlink-cu12-12.4.127 xxhash-3.5.0\n"
     ]
    }
   ],
   "source": [
    "!pip install transformers datasets evaluate accelerate scikit-learn"
   ]
  },
  {
   "cell_type": "code",
   "execution_count": 2,
   "metadata": {
    "executionInfo": {
     "elapsed": 44870,
     "status": "ok",
     "timestamp": 1744889525527,
     "user": {
      "displayName": "si hyeok",
      "userId": "14050594561017177394"
     },
     "user_tz": -540
    },
    "id": "QObF2OAzYwLi"
   },
   "outputs": [],
   "source": [
    "import random\n",
    "import evaluate\n",
    "import numpy as np\n",
    "\n",
    "from datasets import load_dataset\n",
    "from transformers import AutoTokenizer, AutoModelForSequenceClassification"
   ]
  },
  {
   "cell_type": "markdown",
   "metadata": {
    "id": "7vOSyAKGim9f"
   },
   "source": [
    "## Dataset 준비"
   ]
  },
  {
   "cell_type": "code",
   "execution_count": 3,
   "metadata": {
    "colab": {
     "base_uri": "https://localhost:8080/",
     "height": 1000,
     "referenced_widgets": [
      "4f65701dde5c4d7db66d8324ecd26470",
      "5d75a95b1b6646a29f877e088ebf82fc",
      "5efaab3eaa5f4edebc8e116e6ca553df",
      "5ac81c16993c4f4bbb095950f057b839",
      "94eecc19cfbf40d9825929f88522dc3b",
      "29589b859887483ead58e101823336d7",
      "b66fca1dbcdc4614b08574688052c1be",
      "30ca271b46bd439a9350bd79df8c9c2c",
      "44720f65beb4406d90117d9b0a585a4a",
      "de45950d63634217abfb83b4750d6038",
      "fc03004577b24c2989006dac04a8b50b",
      "c4fe2bae56664d499daa334397e1cb9a",
      "ca3ff1d81c9b40529acaceb87693ceab",
      "97aa5047704b441f9c7ba45c04bb69cb",
      "b6778ff639b745ba98bd96c850110f2f",
      "0f5dad228daf4546a3f9517ee246013b",
      "900188c0b08e4a5fbc34259e8922e120",
      "6d3d1e0403d74a6e8636522d039a6b16",
      "53ae11beb89a43048265c1bdec7a7fff",
      "384f57ec910b4232b7b0c61c96c74376",
      "f18097434a6347fe9d6d4dd64250db23",
      "4efcac54dc284740bf56fe1bcea6d1e1",
      "f83122876aa34e73b2cae322e5153cd3",
      "4a8e5754978444109d1f9c73692875d7",
      "6f4be167f1c642da8da2afc367c363b0",
      "5c7f470eef914869a40206564e14bd89",
      "32fb0f52417748daaa53c96fa57a2dd5",
      "bcad761e11e0441d84e0f3a03c0f38ac",
      "98c929a6068044a6a35fa65444774f8a",
      "f1e71be12bd7431f9e5f9337b9d55814",
      "60e8f35113ad458d8598eb7988430599",
      "ae933d02c19d4b77bc69d536113ab62c",
      "b6f36b24f9dd44ecaaeb1f5e3b17e64f",
      "c1c5521505f84e25be47d162cdbf7db8",
      "4d10efd105274520af98726dd5cf9a8c",
      "ea898d6724724c64a49c9e990fdd269e",
      "776eaabef958457cbc007d0e06f90184",
      "f29ef96d3b2a40039cee85bbca8e9876",
      "3212f6e9738d4483803310c65030ff41",
      "0239c976618445da9e32ccfdccb6e505",
      "4a0ba405a694453795e583332c25bf6e",
      "197fb93cfcc7407281b8cb1ae8a6a22d",
      "ef3c7bbad6f1469996c95c9657941804",
      "6827946b6aca4851b46f745453cfa5a4",
      "d8d87339be8840b89401f2914922f6c9",
      "41dca8b632114f31be2e5d9c793a13b3",
      "0fed42cbfe6540a280c410f909557e20",
      "23828de46a684876b9e51367a05291a1",
      "41eda98636244ee6b0df06ffffbf42b7",
      "8b5ae537977940e4a5d7ffc902f664b9",
      "ebe89f002fec46be9448936eeff7d17a",
      "6be066e702bb4fad83849cac1e93b03c",
      "f73b2fda7e204c2db6844363eaf790a2",
      "44e611a46c9544f3ab2ea7192ca5a7ce",
      "95ac137d77d0473ea3a4b1a542585bb3",
      "6cb130ed79d3443abc6fbdd38a4f2a31",
      "7f289bbd17b1467e993fa33bc9c7c491",
      "16f63faf545b45439f9d937c478c5463",
      "7599ba3d33e3489385a3af36ba1155aa",
      "ecf75eb3dc3c4c48a0f71799f5c65531",
      "2801e57e17074e57b73d5f0074fb92a0",
      "85b4f1b42522494ca2a0ed0e8f90cb46",
      "d430ce170f0d4e65a6c6a490b5d9f3d9",
      "7b8da027e46443eabc1e92e20a87425c",
      "496a5517f311487fab1cba75f09c9fea",
      "7476cfdeb1a1421194e73a57e9cf7e86",
      "f761953c23d047088211f7d4742711b5",
      "24bc4c0f4b074d429f6e355f99eed23a",
      "89db34c5932a4dfbb3e3096b73ef25dd",
      "f894c786cce64a26abb94d941cfc15f5",
      "d823c91a55c746db976f0e74be946766",
      "65f0a2616df64549b8d51c1a7314e753",
      "4433640c53204585bd9646c6ee6255c0",
      "5333cbb1e2814e75b0ffbb780183e0f1",
      "df9e6ee31a85410eb9d20c795ab55566",
      "417b0026f2d644e1ae3c26189b379bb7",
      "2de9940bfb4744799b1270e8094e8f39",
      "54622783912f4b988a59fa77fce614f0",
      "a6a1a4537eda4e88b96e55376cf2fb55",
      "df647622d7124960b502f9e75a3f7c05",
      "d11abbb94a224f4ebec4a4fd06b3989f",
      "5deeae39e8334c35b0ab63c9e12ffd0b",
      "8e86a7cb12b9483eb7b09b1cabb7d0c9",
      "63dcb7fb11414a2dacd56cb445762968",
      "443a936c662f482090e25bf111d93d6a",
      "e2a0c049801f48c4bae8c9039cde31fc",
      "e920691bb7824416bc2c75e38ab89cfc",
      "f6fc75d10ca243759a6048f81ddfe0d3",
      "b4343db36af0458e8311171790715818",
      "294cf51a9b564ff6b4d98a76f8a1f93a",
      "b4821628dd4746f3aeb6432f9a8f9bd6",
      "d174405170514d919d9f213f84c4228e",
      "a0c5a11d22ac4d378d72ce0fb5c6a1f0",
      "464f8182d0ed4e20a058fdf60dd95b6c",
      "79d84feaa7cc4187b9e35d9fddb171c7",
      "9116ab2242034c31a5fbeccfa5e0a4c7",
      "6ccc73c009284281becfcc8c6e5bb018",
      "8f4e3479b264462cad1e3fefc5e2c425",
      "b12015f06e3144d3b064fbf595687c1e",
      "ad79cf204afb4136938e71afac4f891d",
      "05bd3fe213d64132b2347ebc999a84d1",
      "1215175142e24037b17c8d6b42453112",
      "811b360152ac457cbc663138bf6ba552",
      "790c923d915d4e1a94890e8d7c9cde16",
      "d844b5e607cd43409cec520489e4f8d5",
      "7ba203364a3343a58edebcc30cae43a5",
      "082b30c65cd741729c09d61d2412a1e6",
      "f8df329b99574984b9ff290e5e07e1a4",
      "97a3d106f864412194ce7c6071293e99",
      "38738f4d1b994b69b4194fc4bc54e984",
      "9979528adafe45b7abe2b78e8a37eb80",
      "5a44bd9562e14070b62d0d584492a4f4",
      "56e3c14bb51d4d10b468b28a037437ce",
      "f4d2ca7379544dffb24024ce5919682f",
      "2636f00d2fb54ac7b639d625810b8915",
      "001b28dd42ea4a0ba6a89eac17b4ffa4",
      "64184462168042f4a5573df7585b599f",
      "d78b2e674a794005a3e232513367a711",
      "cf4f45a820aa4c9f867cd1b6b3c9bd35",
      "f5e3fdf167f94f4e8a6ba12f19e3e877",
      "d694780595c244ad8c484f95e087be7a"
     ]
    },
    "collapsed": true,
    "executionInfo": {
     "elapsed": 4635,
     "status": "ok",
     "timestamp": 1744889541000,
     "user": {
      "displayName": "si hyeok",
      "userId": "14050594561017177394"
     },
     "user_tz": -540
    },
    "id": "HzxfcmYPZA7x",
    "outputId": "67798793-ca8c-4d7a-bf26-1df13dddec8a"
   },
   "outputs": [
    {
     "name": "stderr",
     "output_type": "stream",
     "text": [
      "/usr/local/lib/python3.11/dist-packages/huggingface_hub/utils/_auth.py:94: UserWarning: \n",
      "The secret `HF_TOKEN` does not exist in your Colab secrets.\n",
      "To authenticate with the Hugging Face Hub, create a token in your settings tab (https://huggingface.co/settings/tokens), set it as secret in your Google Colab and restart your session.\n",
      "You will be able to reuse this secret in all of your notebooks.\n",
      "Please note that authentication is recommended but still optional to access public models or datasets.\n",
      "  warnings.warn(\n"
     ]
    },
    {
     "data": {
      "application/vnd.jupyter.widget-view+json": {
       "model_id": "4f65701dde5c4d7db66d8324ecd26470",
       "version_major": 2,
       "version_minor": 0
      },
      "text/plain": [
       "README.md:   0%|          | 0.00/35.3k [00:00<?, ?B/s]"
      ]
     },
     "metadata": {},
     "output_type": "display_data"
    },
    {
     "data": {
      "application/vnd.jupyter.widget-view+json": {
       "model_id": "c4fe2bae56664d499daa334397e1cb9a",
       "version_major": 2,
       "version_minor": 0
      },
      "text/plain": [
       "train-00000-of-00001.parquet:   0%|          | 0.00/52.2M [00:00<?, ?B/s]"
      ]
     },
     "metadata": {},
     "output_type": "display_data"
    },
    {
     "data": {
      "application/vnd.jupyter.widget-view+json": {
       "model_id": "f83122876aa34e73b2cae322e5153cd3",
       "version_major": 2,
       "version_minor": 0
      },
      "text/plain": [
       "(…)alidation_matched-00000-of-00001.parquet:   0%|          | 0.00/1.21M [00:00<?, ?B/s]"
      ]
     },
     "metadata": {},
     "output_type": "display_data"
    },
    {
     "data": {
      "application/vnd.jupyter.widget-view+json": {
       "model_id": "c1c5521505f84e25be47d162cdbf7db8",
       "version_major": 2,
       "version_minor": 0
      },
      "text/plain": [
       "(…)dation_mismatched-00000-of-00001.parquet:   0%|          | 0.00/1.25M [00:00<?, ?B/s]"
      ]
     },
     "metadata": {},
     "output_type": "display_data"
    },
    {
     "data": {
      "application/vnd.jupyter.widget-view+json": {
       "model_id": "d8d87339be8840b89401f2914922f6c9",
       "version_major": 2,
       "version_minor": 0
      },
      "text/plain": [
       "test_matched-00000-of-00001.parquet:   0%|          | 0.00/1.22M [00:00<?, ?B/s]"
      ]
     },
     "metadata": {},
     "output_type": "display_data"
    },
    {
     "data": {
      "application/vnd.jupyter.widget-view+json": {
       "model_id": "6cb130ed79d3443abc6fbdd38a4f2a31",
       "version_major": 2,
       "version_minor": 0
      },
      "text/plain": [
       "test_mismatched-00000-of-00001.parquet:   0%|          | 0.00/1.26M [00:00<?, ?B/s]"
      ]
     },
     "metadata": {},
     "output_type": "display_data"
    },
    {
     "data": {
      "application/vnd.jupyter.widget-view+json": {
       "model_id": "f761953c23d047088211f7d4742711b5",
       "version_major": 2,
       "version_minor": 0
      },
      "text/plain": [
       "Generating train split:   0%|          | 0/392702 [00:00<?, ? examples/s]"
      ]
     },
     "metadata": {},
     "output_type": "display_data"
    },
    {
     "data": {
      "application/vnd.jupyter.widget-view+json": {
       "model_id": "54622783912f4b988a59fa77fce614f0",
       "version_major": 2,
       "version_minor": 0
      },
      "text/plain": [
       "Generating validation_matched split:   0%|          | 0/9815 [00:00<?, ? examples/s]"
      ]
     },
     "metadata": {},
     "output_type": "display_data"
    },
    {
     "data": {
      "application/vnd.jupyter.widget-view+json": {
       "model_id": "b4343db36af0458e8311171790715818",
       "version_major": 2,
       "version_minor": 0
      },
      "text/plain": [
       "Generating validation_mismatched split:   0%|          | 0/9832 [00:00<?, ? examples/s]"
      ]
     },
     "metadata": {},
     "output_type": "display_data"
    },
    {
     "data": {
      "application/vnd.jupyter.widget-view+json": {
       "model_id": "ad79cf204afb4136938e71afac4f891d",
       "version_major": 2,
       "version_minor": 0
      },
      "text/plain": [
       "Generating test_matched split:   0%|          | 0/9796 [00:00<?, ? examples/s]"
      ]
     },
     "metadata": {},
     "output_type": "display_data"
    },
    {
     "data": {
      "application/vnd.jupyter.widget-view+json": {
       "model_id": "9979528adafe45b7abe2b78e8a37eb80",
       "version_major": 2,
       "version_minor": 0
      },
      "text/plain": [
       "Generating test_mismatched split:   0%|          | 0/9847 [00:00<?, ? examples/s]"
      ]
     },
     "metadata": {},
     "output_type": "display_data"
    },
    {
     "data": {
      "text/plain": [
       "DatasetDict({\n",
       "    train: Dataset({\n",
       "        features: ['premise', 'hypothesis', 'label', 'idx'],\n",
       "        num_rows: 392702\n",
       "    })\n",
       "    validation_matched: Dataset({\n",
       "        features: ['premise', 'hypothesis', 'label', 'idx'],\n",
       "        num_rows: 9815\n",
       "    })\n",
       "    validation_mismatched: Dataset({\n",
       "        features: ['premise', 'hypothesis', 'label', 'idx'],\n",
       "        num_rows: 9832\n",
       "    })\n",
       "    test_matched: Dataset({\n",
       "        features: ['premise', 'hypothesis', 'label', 'idx'],\n",
       "        num_rows: 9796\n",
       "    })\n",
       "    test_mismatched: Dataset({\n",
       "        features: ['premise', 'hypothesis', 'label', 'idx'],\n",
       "        num_rows: 9847\n",
       "    })\n",
       "})"
      ]
     },
     "execution_count": 3,
     "metadata": {},
     "output_type": "execute_result"
    }
   ],
   "source": [
    "mnli = load_dataset(\"nyu-mll/glue\", \"mnli\")\n",
    "mnli"
   ]
  },
  {
   "cell_type": "code",
   "execution_count": 7,
   "metadata": {
    "colab": {
     "base_uri": "https://localhost:8080/"
    },
    "executionInfo": {
     "elapsed": 16,
     "status": "ok",
     "timestamp": 1744889596897,
     "user": {
      "displayName": "si hyeok",
      "userId": "14050594561017177394"
     },
     "user_tz": -540
    },
    "id": "9nVFOdAIi4Hj",
    "outputId": "9a9eae9d-7a88-48eb-d7a0-f0f141e53947"
   },
   "outputs": [
    {
     "data": {
      "text/plain": [
       "{'premise': 'States must show reasonable progress in their state implementation plans toward the congressionally mandated goal of returning to natural conditions in national parks and wilderness areas.',\n",
       " 'hypothesis': 'Itis not necessary for there to be any improvement.',\n",
       " 'label': 2,\n",
       " 'idx': 22}"
      ]
     },
     "execution_count": 7,
     "metadata": {},
     "output_type": "execute_result"
    }
   ],
   "source": [
    "mnli['train'][22]"
   ]
  },
  {
   "cell_type": "code",
   "execution_count": 10,
   "metadata": {
    "colab": {
     "base_uri": "https://localhost:8080/",
     "height": 177,
     "referenced_widgets": [
      "86cd20fb0e564e26b8f122f0e12de2ee",
      "ce61fbb6d8d94d0895bc3f7ab6ea8a36",
      "83935444cc394aa7b5d09e2536e5be6e",
      "c2fa81bea5094ed5a36e53c3f627ea11",
      "3d3b7e46dd64452db31fd37f92be069b",
      "3cbf6e7a74354457aec08f73939fda53",
      "c7f216a94e744753bcdc1791c305128f",
      "55607875599c4451b85c13c02c380b73",
      "13f5ba76fc1b40e9ba826f7efa804449",
      "b7870a62db454b5ca0966e6f2855e728",
      "59f0c7db31cb4af3bb551efab3c79e0e",
      "eb1dbdae37334f3d81e41051a8225d4a",
      "0757549bcf084cfa851d31df854ac356",
      "88fda79eee6c471a84d21e011fb79605",
      "4236998a7c914fa98fee0d0eef5fcaaf",
      "5f07a20534854e0bbb38bed8725e1fee",
      "a7819ce5ede74d2d9a6ca473d80d8d4b",
      "3e382349ee174c47a72c3d619e5eb3c3",
      "d067d5a8b31842d6a812f0f9c150cad1",
      "eb0ab28ea148475dafa07c589169199e",
      "7b8a4194db8a4ea7b72b98e19144b56e",
      "1871c3596bd942468b6f32cc86f5dbf6",
      "7e5693b54004447faf4fcfd69859a4ad",
      "fb53b2eac68b4edb9f51e80a26c2c03f",
      "a7e42ce15b79460ba1857e6296e5697a",
      "e6617a9358774c008b231eac463723ec",
      "09f185690db248c5b130880716cf70e3",
      "6ac280c73e4945019ce7c02b0f59eb44",
      "230f5e85795446e696e4ded6bbaa1475",
      "5caae74f717a48669f6071d61685047c",
      "b3d44c34b3524870934651e409d982b5",
      "b00f0677f4054f8fa4004f4e304a2618",
      "bd219c8a9fa54dc2bc739ba89387542f",
      "145f08f415a7408f92bfb4f99f6230ca",
      "105e23cd5fdd494e8f9afffc892be2e7",
      "b8ceb471ea484c4d99b5badd4c0e432e",
      "5ea1441958f744899ef002a54b006113",
      "5c1daf5814d94ab8bc8f9b23fdbc321d",
      "42d7b4b08b994b1cacb96fcc5f57bd6a",
      "45d2cab940ba43d7a11e50363d71bef6",
      "01d3a1361442484e80bc8dc6152b6cf4",
      "1e4eeee201bd442d8b1bd99eb7b71066",
      "440ebb8781a74517ba8103fcdc788735",
      "d574485c3b6945cbafd6813313f863b9",
      "c05f6869093f4500ba9982bb174aaa7b",
      "fad0eb9fedbf45f1b13f208aac594a29",
      "dc5a9ac0df4043b6b065f9a11681f61f",
      "ad7cfa3d1afe40819ad926d4b1395768",
      "45347e7036854c74aa45b81b90b144ca",
      "4a2b1daf9b804e3b9af404a315bb4b99",
      "47fc1504629449b69f0347e918ee82d4",
      "598b18b3aa76456692dfc0f6c14a884a",
      "28602935c1b84068b6472cb1ea3485b1",
      "3eb79bb3278a4e929dc07c040ded9087",
      "f587f81ee8434b3a9f49b9f42e0011c3"
     ]
    },
    "executionInfo": {
     "elapsed": 61570,
     "status": "ok",
     "timestamp": 1744890091549,
     "user": {
      "displayName": "si hyeok",
      "userId": "14050594561017177394"
     },
     "user_tz": -540
    },
    "id": "BhC_ETFZZRJ2",
    "outputId": "a989b9f1-e44d-4cdc-a59b-de3d890d5946"
   },
   "outputs": [
    {
     "data": {
      "application/vnd.jupyter.widget-view+json": {
       "model_id": "86cd20fb0e564e26b8f122f0e12de2ee",
       "version_major": 2,
       "version_minor": 0
      },
      "text/plain": [
       "Map:   0%|          | 0/392702 [00:00<?, ? examples/s]"
      ]
     },
     "metadata": {},
     "output_type": "display_data"
    },
    {
     "data": {
      "application/vnd.jupyter.widget-view+json": {
       "model_id": "eb1dbdae37334f3d81e41051a8225d4a",
       "version_major": 2,
       "version_minor": 0
      },
      "text/plain": [
       "Map:   0%|          | 0/9815 [00:00<?, ? examples/s]"
      ]
     },
     "metadata": {},
     "output_type": "display_data"
    },
    {
     "data": {
      "application/vnd.jupyter.widget-view+json": {
       "model_id": "7e5693b54004447faf4fcfd69859a4ad",
       "version_major": 2,
       "version_minor": 0
      },
      "text/plain": [
       "Map:   0%|          | 0/9832 [00:00<?, ? examples/s]"
      ]
     },
     "metadata": {},
     "output_type": "display_data"
    },
    {
     "data": {
      "application/vnd.jupyter.widget-view+json": {
       "model_id": "145f08f415a7408f92bfb4f99f6230ca",
       "version_major": 2,
       "version_minor": 0
      },
      "text/plain": [
       "Map:   0%|          | 0/9796 [00:00<?, ? examples/s]"
      ]
     },
     "metadata": {},
     "output_type": "display_data"
    },
    {
     "data": {
      "application/vnd.jupyter.widget-view+json": {
       "model_id": "c05f6869093f4500ba9982bb174aaa7b",
       "version_major": 2,
       "version_minor": 0
      },
      "text/plain": [
       "Map:   0%|          | 0/9847 [00:00<?, ? examples/s]"
      ]
     },
     "metadata": {},
     "output_type": "display_data"
    }
   ],
   "source": [
    "tokenizer = AutoTokenizer.from_pretrained(\"bert-base-cased\")\n",
    "\n",
    "def preprocess_function(data):\n",
    "    text = []\n",
    "    for i in range(len(data['premise'])):\n",
    "        text.append(data['premise'][i] + data['hypothesis'][i])\n",
    "    return tokenizer(text, truncation=True)\n",
    "\n",
    "mnli_tokenized = mnli.map(preprocess_function, batched=True)"
   ]
  },
  {
   "cell_type": "code",
   "execution_count": 11,
   "metadata": {
    "colab": {
     "base_uri": "https://localhost:8080/"
    },
    "executionInfo": {
     "elapsed": 9,
     "status": "ok",
     "timestamp": 1744890100558,
     "user": {
      "displayName": "si hyeok",
      "userId": "14050594561017177394"
     },
     "user_tz": -540
    },
    "id": "i1aK6gpPqSSU",
    "outputId": "010a2835-1a6c-4479-8228-a71bf368af11"
   },
   "outputs": [
    {
     "data": {
      "text/plain": [
       "dict_keys(['premise', 'hypothesis', 'label', 'idx', 'input_ids', 'token_type_ids', 'attention_mask'])"
      ]
     },
     "execution_count": 11,
     "metadata": {},
     "output_type": "execute_result"
    }
   ],
   "source": [
    "mnli_tokenized['train'][0].keys()"
   ]
  },
  {
   "cell_type": "code",
   "execution_count": 16,
   "metadata": {
    "colab": {
     "base_uri": "https://localhost:8080/"
    },
    "executionInfo": {
     "elapsed": 21,
     "status": "ok",
     "timestamp": 1744890169249,
     "user": {
      "displayName": "si hyeok",
      "userId": "14050594561017177394"
     },
     "user_tz": -540
    },
    "id": "nhtN-Puy3fHD",
    "outputId": "875c7c92-02d7-4ca1-ce2e-dbeb3b850716"
   },
   "outputs": [
    {
     "name": "stdout",
     "output_type": "stream",
     "text": [
      "you know during the season and i guess at at your level uh you lose them to the next level if if they decide to recall the the parent team the Braves decide to call to recall a guy from triple A then a double A guy goes up to replace him and a single A guy goes up to replace him\n",
      "78\n",
      "1221\n"
     ]
    }
   ],
   "source": [
    "print(mnli_tokenized['train'][1]['premise'])\n",
    "print(len(mnli_tokenized['train'][1]['input_ids']))\n",
    "print(mnli_tokenized['train'][1]['input_ids'][2])"
   ]
  },
  {
   "cell_type": "code",
   "execution_count": 19,
   "metadata": {
    "executionInfo": {
     "elapsed": 187,
     "status": "ok",
     "timestamp": 1744890589771,
     "user": {
      "displayName": "si hyeok",
      "userId": "14050594561017177394"
     },
     "user_tz": -540
    },
    "id": "RIXTFBTobI8N"
   },
   "outputs": [],
   "source": [
    "mnli_split = mnli_tokenized['train'].train_test_split(test_size=0.2)\n",
    "mnli_split\n",
    "mnli_train, mnli_val = mnli_split['train'], mnli_split['test']"
   ]
  },
  {
   "cell_type": "code",
   "execution_count": 20,
   "metadata": {
    "colab": {
     "base_uri": "https://localhost:8080/"
    },
    "executionInfo": {
     "elapsed": 48,
     "status": "ok",
     "timestamp": 1744890607676,
     "user": {
      "displayName": "si hyeok",
      "userId": "14050594561017177394"
     },
     "user_tz": -540
    },
    "id": "5SGfOwadaYlk",
    "outputId": "b5de40ac-ce09-4c9b-cbb8-fdb435095927"
   },
   "outputs": [
    {
     "data": {
      "text/plain": [
       "(314161, 78541)"
      ]
     },
     "execution_count": 20,
     "metadata": {},
     "output_type": "execute_result"
    }
   ],
   "source": [
    "len(mnli_train), len(mnli_val)"
   ]
  },
  {
   "cell_type": "markdown",
   "metadata": {
    "id": "cGe7Fa9wqrCC"
   },
   "source": [
    "## Model 구현"
   ]
  },
  {
   "cell_type": "code",
   "execution_count": 21,
   "metadata": {
    "executionInfo": {
     "elapsed": 311,
     "status": "ok",
     "timestamp": 1744890624093,
     "user": {
      "displayName": "si hyeok",
      "userId": "14050594561017177394"
     },
     "user_tz": -540
    },
    "id": "xw-ZdYVCZfxU"
   },
   "outputs": [],
   "source": [
    "from transformers import BertConfig\n",
    "\n",
    "config = BertConfig()\n",
    "\n",
    "config.hidden_size = 64  # BERT layer의 기본 hidden dimension\n",
    "config.intermediate_size = 64  # FFN layer의 중간 hidden dimension\n",
    "config.num_hidden_layers = 2  # BERT layer의 개수\n",
    "config.num_attention_heads = 4  # Multi-head attention에서 사용하는 head 개수\n",
    "config.num_labels = 3  # 마지막에 예측해야 하는 분류 문제의 class 개수\n",
    "\n",
    "model = AutoModelForSequenceClassification.from_config(config)"
   ]
  },
  {
   "cell_type": "markdown",
   "metadata": {
    "id": "BQpVs-lirLp5"
   },
   "source": [
    "BERT는 이전에 배운 Transformer의 architecture를 그대로 사용합니다.\n",
    "그래서 BERT의 옵션들만 수정하면 vanilla Transformer를 쉽게 구현할 수 있습니다.\n",
    "\n",
    "Transformer 구현 이외에 분류 문제에 맞춰 첫 번째 token을 linear classifier를 거치는 등의 과정은 `AutoModelForSequenceClassification`이 구현해줍니다.\n",
    "즉, 우리가 `config`로 넘겨주는 BERT의 마지막에 linear classifier를 달아주는 역할을 합니다."
   ]
  },
  {
   "cell_type": "markdown",
   "metadata": {
    "id": "31PYtx_Vrj1Y"
   },
   "source": [
    "## 학습 코드"
   ]
  },
  {
   "cell_type": "code",
   "execution_count": 27,
   "metadata": {
    "executionInfo": {
     "elapsed": 30,
     "status": "ok",
     "timestamp": 1744892791423,
     "user": {
      "displayName": "si hyeok",
      "userId": "14050594561017177394"
     },
     "user_tz": -540
    },
    "id": "YtqLwO7sZhXT"
   },
   "outputs": [],
   "source": [
    "from transformers import TrainingArguments, Trainer\n",
    "\n",
    "training_args = TrainingArguments(\n",
    "    output_dir='hf_transformer',  # 모델, log 등을 저장할 directory\n",
    "    num_train_epochs=10,  # epoch 수\n",
    "    per_device_train_batch_size=128,  # training data의 batch size\n",
    "    per_device_eval_batch_size=128,  # validation data의 batch size\n",
    "    logging_strategy=\"epoch\",  # Epoch가 끝날 때마다 training loss 등을 log하라는 의미\n",
    "    do_train=True,  # 학습을 진행하겠다는 의미\n",
    "    do_eval=True,  # 학습 중간에 validation data에 대한 평가를 수행하겠다는 의미\n",
    "    eval_strategy=\"epoch\",  # 매 epoch가 끝날 때마다 validation data에 대한 평가를 수행한다는 의미\n",
    "    save_strategy=\"epoch\",  # 매 epoch가 끝날 때마다 모델을 저장하겠다는 의미\n",
    "    learning_rate=1e-3,  # optimizer에 사용할 learning rate\n",
    "    load_best_model_at_end=True,  # 학습이 끝난 후, validation data에 대한 성능이 가장 좋은 모델을 채택하겠다는 의미\n",
    "    report_to=\"none\"\n",
    ")"
   ]
  },
  {
   "cell_type": "code",
   "execution_count": 28,
   "metadata": {
    "executionInfo": {
     "elapsed": 571,
     "status": "ok",
     "timestamp": 1744892794946,
     "user": {
      "displayName": "si hyeok",
      "userId": "14050594561017177394"
     },
     "user_tz": -540
    },
    "id": "Wa2zYLTUZ8rD"
   },
   "outputs": [],
   "source": [
    "import evaluate\n",
    "\n",
    "accuracy = evaluate.load(\"accuracy\")\n",
    "\n",
    "\n",
    "def compute_metrics(pred):\n",
    "    predictions, labels = pred\n",
    "    predictions = np.argmax(predictions, axis=1)\n",
    "    return accuracy.compute(predictions=predictions, references=labels)"
   ]
  },
  {
   "cell_type": "code",
   "execution_count": 29,
   "metadata": {
    "colab": {
     "base_uri": "https://localhost:8080/"
    },
    "executionInfo": {
     "elapsed": 25,
     "status": "ok",
     "timestamp": 1744892797865,
     "user": {
      "displayName": "si hyeok",
      "userId": "14050594561017177394"
     },
     "user_tz": -540
    },
    "id": "Ci4lNfK6Z_z4",
    "outputId": "95778236-0f73-46ba-ad64-a42239507cbc"
   },
   "outputs": [
    {
     "name": "stderr",
     "output_type": "stream",
     "text": [
      "<ipython-input-29-7d5264ce2c7d>:4: FutureWarning: `tokenizer` is deprecated and will be removed in version 5.0.0 for `Trainer.__init__`. Use `processing_class` instead.\n",
      "  trainer = Trainer(\n"
     ]
    }
   ],
   "source": [
    "from transformers import EarlyStoppingCallback\n",
    "\n",
    "\n",
    "trainer = Trainer(\n",
    "    model=model,\n",
    "    args=training_args,\n",
    "    train_dataset=mnli_train,\n",
    "    eval_dataset=mnli_val,\n",
    "    compute_metrics=compute_metrics,\n",
    "    tokenizer=tokenizer,\n",
    "    # callbacks = [EarlyStoppingCallback(early_stopping_patience=1)]\n",
    ")"
   ]
  },
  {
   "cell_type": "code",
   "execution_count": 30,
   "metadata": {
    "colab": {
     "base_uri": "https://localhost:8080/",
     "height": 443
    },
    "executionInfo": {
     "elapsed": 1188663,
     "status": "ok",
     "timestamp": 1744893989682,
     "user": {
      "displayName": "si hyeok",
      "userId": "14050594561017177394"
     },
     "user_tz": -540
    },
    "id": "qmNkWuVVaBEc",
    "outputId": "df0df823-df24-41c8-ed85-1cc5ece9bea2"
   },
   "outputs": [
    {
     "data": {
      "text/html": [
       "\n",
       "    <div>\n",
       "      \n",
       "      <progress value='24550' max='24550' style='width:300px; height:20px; vertical-align: middle;'></progress>\n",
       "      [24550/24550 19:47, Epoch 10/10]\n",
       "    </div>\n",
       "    <table border=\"1\" class=\"dataframe\">\n",
       "  <thead>\n",
       " <tr style=\"text-align: left;\">\n",
       "      <th>Epoch</th>\n",
       "      <th>Training Loss</th>\n",
       "      <th>Validation Loss</th>\n",
       "      <th>Accuracy</th>\n",
       "    </tr>\n",
       "  </thead>\n",
       "  <tbody>\n",
       "    <tr>\n",
       "      <td>1</td>\n",
       "      <td>1.008900</td>\n",
       "      <td>0.968791</td>\n",
       "      <td>0.519156</td>\n",
       "    </tr>\n",
       "    <tr>\n",
       "      <td>2</td>\n",
       "      <td>0.946000</td>\n",
       "      <td>0.951290</td>\n",
       "      <td>0.534485</td>\n",
       "    </tr>\n",
       "    <tr>\n",
       "      <td>3</td>\n",
       "      <td>0.906100</td>\n",
       "      <td>0.948220</td>\n",
       "      <td>0.535300</td>\n",
       "    </tr>\n",
       "    <tr>\n",
       "      <td>4</td>\n",
       "      <td>0.869800</td>\n",
       "      <td>0.962980</td>\n",
       "      <td>0.531799</td>\n",
       "    </tr>\n",
       "    <tr>\n",
       "      <td>5</td>\n",
       "      <td>0.835300</td>\n",
       "      <td>0.997313</td>\n",
       "      <td>0.522619</td>\n",
       "    </tr>\n",
       "    <tr>\n",
       "      <td>6</td>\n",
       "      <td>0.801500</td>\n",
       "      <td>1.014972</td>\n",
       "      <td>0.521957</td>\n",
       "    </tr>\n",
       "    <tr>\n",
       "      <td>7</td>\n",
       "      <td>0.767500</td>\n",
       "      <td>1.066000</td>\n",
       "      <td>0.514839</td>\n",
       "    </tr>\n",
       "    <tr>\n",
       "      <td>8</td>\n",
       "      <td>0.737800</td>\n",
       "      <td>1.104169</td>\n",
       "      <td>0.509937</td>\n",
       "    </tr>\n",
       "    <tr>\n",
       "      <td>9</td>\n",
       "      <td>0.710500</td>\n",
       "      <td>1.174682</td>\n",
       "      <td>0.504934</td>\n",
       "    </tr>\n",
       "    <tr>\n",
       "      <td>10</td>\n",
       "      <td>0.689600</td>\n",
       "      <td>1.197277</td>\n",
       "      <td>0.504386</td>\n",
       "    </tr>\n",
       "  </tbody>\n",
       "</table><p>"
      ],
      "text/plain": [
       "<IPython.core.display.HTML object>"
      ]
     },
     "metadata": {},
     "output_type": "display_data"
    },
    {
     "data": {
      "text/plain": [
       "TrainOutput(global_step=24550, training_loss=0.8273048963371945, metrics={'train_runtime': 1188.5989, 'train_samples_per_second': 2643.12, 'train_steps_per_second': 20.655, 'total_flos': 131335273474020.0, 'train_loss': 0.8273048963371945, 'epoch': 10.0})"
      ]
     },
     "execution_count": 30,
     "metadata": {},
     "output_type": "execute_result"
    }
   ],
   "source": [
    "trainer.train()"
   ]
  },
  {
   "cell_type": "code",
   "execution_count": 31,
   "metadata": {
    "colab": {
     "base_uri": "https://localhost:8080/",
     "height": 144
    },
    "executionInfo": {
     "elapsed": 2228,
     "status": "ok",
     "timestamp": 1744894118702,
     "user": {
      "displayName": "si hyeok",
      "userId": "14050594561017177394"
     },
     "user_tz": -540
    },
    "id": "16mRdiEgeVPQ",
    "outputId": "6fe52314-0997-421a-d78e-7c003cd61ad1"
   },
   "outputs": [
    {
     "data": {
      "text/html": [
       "\n",
       "    <div>\n",
       "      \n",
       "      <progress value='77' max='77' style='width:300px; height:20px; vertical-align: middle;'></progress>\n",
       "      [77/77 00:02]\n",
       "    </div>\n",
       "    "
      ],
      "text/plain": [
       "<IPython.core.display.HTML object>"
      ]
     },
     "metadata": {},
     "output_type": "display_data"
    },
    {
     "data": {
      "text/plain": [
       "{'eval_loss': 0.9237954020500183,\n",
       " 'eval_accuracy': 0.558634742740703,\n",
       " 'eval_runtime': 2.1127,\n",
       " 'eval_samples_per_second': 4645.762,\n",
       " 'eval_steps_per_second': 36.447,\n",
       " 'epoch': 10.0}"
      ]
     },
     "execution_count": 31,
     "metadata": {},
     "output_type": "execute_result"
    }
   ],
   "source": [
    "trainer.evaluate(mnli_tokenized['validation_matched'])"
   ]
  }
 ],
 "metadata": {
  "accelerator": "GPU",
  "colab": {
   "gpuType": "T4",
   "provenance": [
    {
     "file_id": "1iIhvEqckb-eDT5uhS92rnod2EVjSfj6K",
     "timestamp": 1744810995389
    }
   ]
  },
  "kernelspec": {
   "display_name": "Python 3",
   "name": "python3"
  },
  "language_info": {
   "name": "python"
  }
 },
 "nbformat": 4,
 "nbformat_minor": 0
}
