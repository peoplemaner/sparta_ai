{
  "cells": [
    {
      "cell_type": "markdown",
      "source": [
        "# DistilBERT fine-tuning\uc73c\ub85c \uac10\uc815 \ubd84\uc11d \ubaa8\ub378 \ud559\uc2b5\ud558\uae30\n",
        "\n",
        "\uc774\ubc88 \uc2e4\uc2b5\uc5d0\uc11c\ub294 pre-trained\ub41c DistilBERT\ub97c \ubd88\ub7ec\uc640 \uc774\uc804 \uc8fc\ucc28 \uc2e4\uc2b5\uc5d0\uc11c \uc0ac\uc6a9\ud558\ub358 \uac10\uc815 \ubd84\uc11d \ubb38\uc81c\uc5d0 \uc801\uc6a9\ud569\ub2c8\ub2e4. \uba3c\uc800 \ud544\uc694\ud55c library\ub4e4\uc744 \ubd88\ub7ec\uc635\ub2c8\ub2e4."
      ],
      "metadata": {
        "id": "sbgz49PvHhLt"
      }
    },
    {
      "cell_type": "code",
      "execution_count": 1,
      "metadata": {
        "colab": {
          "base_uri": "https://localhost:8080/"
        },
        "executionInfo": {
          "elapsed": 19218,
          "status": "ok",
          "timestamp": 1744024094705,
          "user": {
            "displayName": "si hyeok",
            "userId": "14050594561017177394"
          },
          "user_tz": -540
        },
        "id": "1LqgujQUbv6X",
        "outputId": "c99f76a3-7903-489e-8a2d-461daca2f7d6",
        "collapsed": true
      },
      "outputs": [
        {
          "output_type": "stream",
          "name": "stdout",
          "text": [
            "Requirement already satisfied: tqdm in /usr/local/lib/python3.11/dist-packages (4.67.1)\n",
            "Collecting boto3\n",
            "  Downloading boto3-1.37.28-py3-none-any.whl.metadata (6.7 kB)\n",
            "Requirement already satisfied: requests in /usr/local/lib/python3.11/dist-packages (2.32.3)\n",
            "Requirement already satisfied: regex in /usr/local/lib/python3.11/dist-packages (2024.11.6)\n",
            "Requirement already satisfied: sentencepiece in /usr/local/lib/python3.11/dist-packages (0.2.0)\n",
            "Collecting sacremoses\n",
            "  Downloading sacremoses-0.1.1-py3-none-any.whl.metadata (8.3 kB)\n",
            "Collecting datasets\n",
            "  Downloading datasets-3.5.0-py3-none-any.whl.metadata (19 kB)\n",
            "Collecting botocore<1.38.0,>=1.37.28 (from boto3)\n",
            "  Downloading botocore-1.37.28-py3-none-any.whl.metadata (5.7 kB)\n",
            "Collecting jmespath<2.0.0,>=0.7.1 (from boto3)\n",
            "  Downloading jmespath-1.0.1-py3-none-any.whl.metadata (7.6 kB)\n",
            "Collecting s3transfer<0.12.0,>=0.11.0 (from boto3)\n",
            "  Downloading s3transfer-0.11.4-py3-none-any.whl.metadata (1.7 kB)\n",
            "Requirement already satisfied: charset-normalizer<4,>=2 in /usr/local/lib/python3.11/dist-packages (from requests) (3.4.1)\n",
            "Requirement already satisfied: idna<4,>=2.5 in /usr/local/lib/python3.11/dist-packages (from requests) (3.10)\n",
            "Requirement already satisfied: urllib3<3,>=1.21.1 in /usr/local/lib/python3.11/dist-packages (from requests) (2.3.0)\n",
            "Requirement already satisfied: certifi>=2017.4.17 in /usr/local/lib/python3.11/dist-packages (from requests) (2025.1.31)\n",
            "Requirement already satisfied: click in /usr/local/lib/python3.11/dist-packages (from sacremoses) (8.1.8)\n",
            "Requirement already satisfied: joblib in /usr/local/lib/python3.11/dist-packages (from sacremoses) (1.4.2)\n",
            "Requirement already satisfied: filelock in /usr/local/lib/python3.11/dist-packages (from datasets) (3.18.0)\n",
            "Requirement already satisfied: numpy>=1.17 in /usr/local/lib/python3.11/dist-packages (from datasets) (2.0.2)\n",
            "Requirement already satisfied: pyarrow>=15.0.0 in /usr/local/lib/python3.11/dist-packages (from datasets) (18.1.0)\n",
            "Collecting dill<0.3.9,>=0.3.0 (from datasets)\n",
            "  Downloading dill-0.3.8-py3-none-any.whl.metadata (10 kB)\n",
            "Requirement already satisfied: pandas in /usr/local/lib/python3.11/dist-packages (from datasets) (2.2.2)\n",
            "Collecting xxhash (from datasets)\n",
            "  Downloading xxhash-3.5.0-cp311-cp311-manylinux_2_17_x86_64.manylinux2014_x86_64.whl.metadata (12 kB)\n",
            "Collecting multiprocess<0.70.17 (from datasets)\n",
            "  Downloading multiprocess-0.70.16-py311-none-any.whl.metadata (7.2 kB)\n",
            "Collecting fsspec<=2024.12.0,>=2023.1.0 (from fsspec[http]<=2024.12.0,>=2023.1.0->datasets)\n",
            "  Downloading fsspec-2024.12.0-py3-none-any.whl.metadata (11 kB)\n",
            "Requirement already satisfied: aiohttp in /usr/local/lib/python3.11/dist-packages (from datasets) (3.11.15)\n",
            "Requirement already satisfied: huggingface-hub>=0.24.0 in /usr/local/lib/python3.11/dist-packages (from datasets) (0.30.1)\n",
            "Requirement already satisfied: packaging in /usr/local/lib/python3.11/dist-packages (from datasets) (24.2)\n",
            "Requirement already satisfied: pyyaml>=5.1 in /usr/local/lib/python3.11/dist-packages (from datasets) (6.0.2)\n",
            "Requirement already satisfied: python-dateutil<3.0.0,>=2.1 in /usr/local/lib/python3.11/dist-packages (from botocore<1.38.0,>=1.37.28->boto3) (2.8.2)\n",
            "Requirement already satisfied: aiohappyeyeballs>=2.3.0 in /usr/local/lib/python3.11/dist-packages (from aiohttp->datasets) (2.6.1)\n",
            "Requirement already satisfied: aiosignal>=1.1.2 in /usr/local/lib/python3.11/dist-packages (from aiohttp->datasets) (1.3.2)\n",
            "Requirement already satisfied: attrs>=17.3.0 in /usr/local/lib/python3.11/dist-packages (from aiohttp->datasets) (25.3.0)\n",
            "Requirement already satisfied: frozenlist>=1.1.1 in /usr/local/lib/python3.11/dist-packages (from aiohttp->datasets) (1.5.0)\n",
            "Requirement already satisfied: multidict<7.0,>=4.5 in /usr/local/lib/python3.11/dist-packages (from aiohttp->datasets) (6.3.1)\n",
            "Requirement already satisfied: propcache>=0.2.0 in /usr/local/lib/python3.11/dist-packages (from aiohttp->datasets) (0.3.1)\n",
            "Requirement already satisfied: yarl<2.0,>=1.17.0 in /usr/local/lib/python3.11/dist-packages (from aiohttp->datasets) (1.18.3)\n",
            "Requirement already satisfied: typing-extensions>=3.7.4.3 in /usr/local/lib/python3.11/dist-packages (from huggingface-hub>=0.24.0->datasets) (4.13.0)\n",
            "Requirement already satisfied: pytz>=2020.1 in /usr/local/lib/python3.11/dist-packages (from pandas->datasets) (2025.2)\n",
            "Requirement already satisfied: tzdata>=2022.7 in /usr/local/lib/python3.11/dist-packages (from pandas->datasets) (2025.2)\n",
            "Requirement already satisfied: six>=1.5 in /usr/local/lib/python3.11/dist-packages (from python-dateutil<3.0.0,>=2.1->botocore<1.38.0,>=1.37.28->boto3) (1.17.0)\n",
            "Downloading boto3-1.37.28-py3-none-any.whl (139 kB)\n",
            "\u001b[2K   \u001b[90m\u2501\u2501\u2501\u2501\u2501\u2501\u2501\u2501\u2501\u2501\u2501\u2501\u2501\u2501\u2501\u2501\u2501\u2501\u2501\u2501\u2501\u2501\u2501\u2501\u2501\u2501\u2501\u2501\u2501\u2501\u2501\u2501\u2501\u2501\u2501\u2501\u2501\u2501\u2501\u2501\u001b[0m \u001b[32m139.6/139.6 kB\u001b[0m \u001b[31m6.5 MB/s\u001b[0m eta \u001b[36m0:00:00\u001b[0m\n",
            "\u001b[?25hDownloading sacremoses-0.1.1-py3-none-any.whl (897 kB)\n",
            "\u001b[2K   \u001b[90m\u2501\u2501\u2501\u2501\u2501\u2501\u2501\u2501\u2501\u2501\u2501\u2501\u2501\u2501\u2501\u2501\u2501\u2501\u2501\u2501\u2501\u2501\u2501\u2501\u2501\u2501\u2501\u2501\u2501\u2501\u2501\u2501\u2501\u2501\u2501\u2501\u2501\u2501\u2501\u2501\u001b[0m \u001b[32m897.5/897.5 kB\u001b[0m \u001b[31m45.8 MB/s\u001b[0m eta \u001b[36m0:00:00\u001b[0m\n",
            "\u001b[?25hDownloading datasets-3.5.0-py3-none-any.whl (491 kB)\n",
            "\u001b[2K   \u001b[90m\u2501\u2501\u2501\u2501\u2501\u2501\u2501\u2501\u2501\u2501\u2501\u2501\u2501\u2501\u2501\u2501\u2501\u2501\u2501\u2501\u2501\u2501\u2501\u2501\u2501\u2501\u2501\u2501\u2501\u2501\u2501\u2501\u2501\u2501\u2501\u2501\u2501\u2501\u2501\u2501\u001b[0m \u001b[32m491.2/491.2 kB\u001b[0m \u001b[31m32.8 MB/s\u001b[0m eta \u001b[36m0:00:00\u001b[0m\n",
            "\u001b[?25hDownloading botocore-1.37.28-py3-none-any.whl (13.5 MB)\n",
            "\u001b[2K   \u001b[90m\u2501\u2501\u2501\u2501\u2501\u2501\u2501\u2501\u2501\u2501\u2501\u2501\u2501\u2501\u2501\u2501\u2501\u2501\u2501\u2501\u2501\u2501\u2501\u2501\u2501\u2501\u2501\u2501\u2501\u2501\u2501\u2501\u2501\u2501\u2501\u2501\u2501\u2501\u2501\u2501\u001b[0m \u001b[32m13.5/13.5 MB\u001b[0m \u001b[31m77.2 MB/s\u001b[0m eta \u001b[36m0:00:00\u001b[0m\n",
            "\u001b[?25hDownloading dill-0.3.8-py3-none-any.whl (116 kB)\n",
            "\u001b[2K   \u001b[90m\u2501\u2501\u2501\u2501\u2501\u2501\u2501\u2501\u2501\u2501\u2501\u2501\u2501\u2501\u2501\u2501\u2501\u2501\u2501\u2501\u2501\u2501\u2501\u2501\u2501\u2501\u2501\u2501\u2501\u2501\u2501\u2501\u2501\u2501\u2501\u2501\u2501\u2501\u2501\u2501\u001b[0m \u001b[32m116.3/116.3 kB\u001b[0m \u001b[31m11.1 MB/s\u001b[0m eta \u001b[36m0:00:00\u001b[0m\n",
            "\u001b[?25hDownloading fsspec-2024.12.0-py3-none-any.whl (183 kB)\n",
            "\u001b[2K   \u001b[90m\u2501\u2501\u2501\u2501\u2501\u2501\u2501\u2501\u2501\u2501\u2501\u2501\u2501\u2501\u2501\u2501\u2501\u2501\u2501\u2501\u2501\u2501\u2501\u2501\u2501\u2501\u2501\u2501\u2501\u2501\u2501\u2501\u2501\u2501\u2501\u2501\u2501\u2501\u2501\u2501\u001b[0m \u001b[32m183.9/183.9 kB\u001b[0m \u001b[31m16.7 MB/s\u001b[0m eta \u001b[36m0:00:00\u001b[0m\n",
            "\u001b[?25hDownloading jmespath-1.0.1-py3-none-any.whl (20 kB)\n",
            "Downloading multiprocess-0.70.16-py311-none-any.whl (143 kB)\n",
            "\u001b[2K   \u001b[90m\u2501\u2501\u2501\u2501\u2501\u2501\u2501\u2501\u2501\u2501\u2501\u2501\u2501\u2501\u2501\u2501\u2501\u2501\u2501\u2501\u2501\u2501\u2501\u2501\u2501\u2501\u2501\u2501\u2501\u2501\u2501\u2501\u2501\u2501\u2501\u2501\u2501\u2501\u2501\u2501\u001b[0m \u001b[32m143.5/143.5 kB\u001b[0m \u001b[31m12.7 MB/s\u001b[0m eta \u001b[36m0:00:00\u001b[0m\n",
            "\u001b[?25hDownloading s3transfer-0.11.4-py3-none-any.whl (84 kB)\n",
            "\u001b[2K   \u001b[90m\u2501\u2501\u2501\u2501\u2501\u2501\u2501\u2501\u2501\u2501\u2501\u2501\u2501\u2501\u2501\u2501\u2501\u2501\u2501\u2501\u2501\u2501\u2501\u2501\u2501\u2501\u2501\u2501\u2501\u2501\u2501\u2501\u2501\u2501\u2501\u2501\u2501\u2501\u2501\u2501\u001b[0m \u001b[32m84.4/84.4 kB\u001b[0m \u001b[31m7.3 MB/s\u001b[0m eta \u001b[36m0:00:00\u001b[0m\n",
            "\u001b[?25hDownloading xxhash-3.5.0-cp311-cp311-manylinux_2_17_x86_64.manylinux2014_x86_64.whl (194 kB)\n",
            "\u001b[2K   \u001b[90m\u2501\u2501\u2501\u2501\u2501\u2501\u2501\u2501\u2501\u2501\u2501\u2501\u2501\u2501\u2501\u2501\u2501\u2501\u2501\u2501\u2501\u2501\u2501\u2501\u2501\u2501\u2501\u2501\u2501\u2501\u2501\u2501\u2501\u2501\u2501\u2501\u2501\u2501\u2501\u2501\u001b[0m \u001b[32m194.8/194.8 kB\u001b[0m \u001b[31m18.0 MB/s\u001b[0m eta \u001b[36m0:00:00\u001b[0m\n",
            "\u001b[?25hInstalling collected packages: xxhash, sacremoses, jmespath, fsspec, dill, multiprocess, botocore, s3transfer, datasets, boto3\n",
            "  Attempting uninstall: fsspec\n",
            "    Found existing installation: fsspec 2025.3.2\n",
            "    Uninstalling fsspec-2025.3.2:\n",
            "      Successfully uninstalled fsspec-2025.3.2\n",
            "\u001b[31mERROR: pip's dependency resolver does not currently take into account all the packages that are installed. This behaviour is the source of the following dependency conflicts.\n",
            "torch 2.6.0+cu124 requires nvidia-cublas-cu12==12.4.5.8; platform_system == \"Linux\" and platform_machine == \"x86_64\", but you have nvidia-cublas-cu12 12.5.3.2 which is incompatible.\n",
            "torch 2.6.0+cu124 requires nvidia-cuda-cupti-cu12==12.4.127; platform_system == \"Linux\" and platform_machine == \"x86_64\", but you have nvidia-cuda-cupti-cu12 12.5.82 which is incompatible.\n",
            "torch 2.6.0+cu124 requires nvidia-cuda-nvrtc-cu12==12.4.127; platform_system == \"Linux\" and platform_machine == \"x86_64\", but you have nvidia-cuda-nvrtc-cu12 12.5.82 which is incompatible.\n",
            "torch 2.6.0+cu124 requires nvidia-cuda-runtime-cu12==12.4.127; platform_system == \"Linux\" and platform_machine == \"x86_64\", but you have nvidia-cuda-runtime-cu12 12.5.82 which is incompatible.\n",
            "torch 2.6.0+cu124 requires nvidia-cudnn-cu12==9.1.0.70; platform_system == \"Linux\" and platform_machine == \"x86_64\", but you have nvidia-cudnn-cu12 9.3.0.75 which is incompatible.\n",
            "torch 2.6.0+cu124 requires nvidia-cufft-cu12==11.2.1.3; platform_system == \"Linux\" and platform_machine == \"x86_64\", but you have nvidia-cufft-cu12 11.2.3.61 which is incompatible.\n",
            "torch 2.6.0+cu124 requires nvidia-curand-cu12==10.3.5.147; platform_system == \"Linux\" and platform_machine == \"x86_64\", but you have nvidia-curand-cu12 10.3.6.82 which is incompatible.\n",
            "torch 2.6.0+cu124 requires nvidia-cusolver-cu12==11.6.1.9; platform_system == \"Linux\" and platform_machine == \"x86_64\", but you have nvidia-cusolver-cu12 11.6.3.83 which is incompatible.\n",
            "torch 2.6.0+cu124 requires nvidia-cusparse-cu12==12.3.1.170; platform_system == \"Linux\" and platform_machine == \"x86_64\", but you have nvidia-cusparse-cu12 12.5.1.3 which is incompatible.\n",
            "torch 2.6.0+cu124 requires nvidia-nvjitlink-cu12==12.4.127; platform_system == \"Linux\" and platform_machine == \"x86_64\", but you have nvidia-nvjitlink-cu12 12.5.82 which is incompatible.\n",
            "gcsfs 2025.3.2 requires fsspec==2025.3.2, but you have fsspec 2024.12.0 which is incompatible.\u001b[0m\u001b[31m\n",
            "\u001b[0mSuccessfully installed boto3-1.37.28 botocore-1.37.28 datasets-3.5.0 dill-0.3.8 fsspec-2024.12.0 jmespath-1.0.1 multiprocess-0.70.16 s3transfer-0.11.4 sacremoses-0.1.1 xxhash-3.5.0\n"
          ]
        }
      ],
      "source": [
        "!pip install tqdm boto3 requests regex sentencepiece sacremoses datasets"
      ]
    },
    {
      "cell_type": "markdown",
      "source": [
        "\uadf8 \ud6c4, \uc6b0\ub9ac\uac00 \uc0ac\uc6a9\ud558\ub294 DistilBERT pre-training \ub54c \uc0ac\uc6a9\ud55c tokenizer\ub97c \ubd88\ub7ec\uc635\ub2c8\ub2e4."
      ],
      "metadata": {
        "id": "6YP3FxG9IF7O"
      }
    },
    {
      "cell_type": "code",
      "execution_count": 2,
      "metadata": {
        "colab": {
          "base_uri": "https://localhost:8080/",
          "height": 321,
          "referenced_widgets": [
            "f2e12eb1ff0d4f8aacbe554f0b25c8cd",
            "95558e0bd69048cbb5b695644d389860",
            "86f6576e8bfe4403a8945c01b2ab75c4",
            "598e66a29af949189fe71d220462ed99",
            "d2d014ddc53f444286b0ddcd2ebc7654",
            "29bbbaf39ef74a5d8fcad7b67d8cadc4",
            "5417e05b770e468da7af5c166fae9a0a",
            "04efc53958de4a88b44fbdc75b2c21a7",
            "4a1da0d0a96243b080b3b1650e8e1ce8",
            "8c87279ef9cf4e03acf19daefba116d1",
            "c55bd5401f134d88889c7e4e9a1a6197",
            "30f2a98f38a64bdbbc6da5d4272ccf3c",
            "959c9166debf4e459f2284ada32c5fba",
            "1fa4f308074a4f44ac85bf5c8c497f15",
            "c9f9e769a043423f8eee72e862bea69a",
            "503984436606485db20a187881d34369",
            "18e567bee26d4b7fbb71ef82e6f99eae",
            "4ef22c51a7464986b171f7987dbbace7",
            "3ff5ba7971ac4bbdb109d1781f1da89f",
            "a363be5c3fef42388d37eb3facf4e1ba",
            "6908fd6e456540f581c6f7e570329e14",
            "2257f4e5adce4259822286bb98152802",
            "975cd94e82e347158709dff04b3980ff",
            "2762199f46084b41a9ac53ae821cc12c",
            "619983bc517b4abda0d383b0db94fa86",
            "2616b0cd337643aaa9e1a646f87954e3",
            "d2c297aa44fe4b1e9c6fe430663449f7",
            "50dd24b88c884de1bd92502c6534f8dc",
            "d3be50cd0785418ba07dc1fdd773491c",
            "e8816249f63849f380aa91c7a9d74fba",
            "dd1556b3007e4885bf1e38da975af04d",
            "54e368bcf8fc4de09c3a90950fc58821",
            "a85ee98a6ed54ec6ad6c2f3e698e9d24",
            "e91449312bc3405c80b2d234e136c5fb",
            "7e3704a44cc74e789994f912a9c87b0e",
            "2b9e3ecd1fc54158ad057ad1add82624",
            "b367aee03fe743e08898cc671b3b2afd",
            "b73e035b13e14453a5e64822bbb6044b",
            "c21890f021f243919aee9d8bc9456aaf",
            "763595ab73294fffacf42da6f16252f5",
            "bade621005ec4214a18263b427cc2c3b",
            "d8d8ffce12874bc8b644f360734dc7ea",
            "c4764ddd0e5b424780c1209466900682",
            "72e56af6e5234866bf28b5af21a4f813"
          ]
        },
        "executionInfo": {
          "elapsed": 29755,
          "status": "ok",
          "timestamp": 1744024124464,
          "user": {
            "displayName": "si hyeok",
            "userId": "14050594561017177394"
          },
          "user_tz": -540
        },
        "id": "6lGiZUoPby6e",
        "outputId": "40de0c37-7360-4a36-bb52-b74567a50661"
      },
      "outputs": [
        {
          "output_type": "stream",
          "name": "stderr",
          "text": [
            "/usr/local/lib/python3.11/dist-packages/torch/hub.py:330: UserWarning: You are about to download and run code from an untrusted repository. In a future release, this won't be allowed. To add the repository to your trusted list, change the command to {calling_fn}(..., trust_repo=False) and a command prompt will appear asking for an explicit confirmation of trust, or load(..., trust_repo=True), which will assume that the prompt is to be answered with 'yes'. You can also use load(..., trust_repo='check') which will only prompt for confirmation if the repo is not already trusted. This will eventually be the default behaviour\n",
            "  warnings.warn(\n",
            "Downloading: \"https://github.com/huggingface/pytorch-transformers/zipball/main\" to /root/.cache/torch/hub/main.zip\n",
            "/usr/local/lib/python3.11/dist-packages/huggingface_hub/utils/_auth.py:94: UserWarning: \n",
            "The secret `HF_TOKEN` does not exist in your Colab secrets.\n",
            "To authenticate with the Hugging Face Hub, create a token in your settings tab (https://huggingface.co/settings/tokens), set it as secret in your Google Colab and restart your session.\n",
            "You will be able to reuse this secret in all of your notebooks.\n",
            "Please note that authentication is recommended but still optional to access public models or datasets.\n",
            "  warnings.warn(\n"
          ]
        },
        {
          "output_type": "display_data",
          "data": {
            "text/plain": [
              "tokenizer_config.json:   0%|          | 0.00/48.0 [00:00<?, ?B/s]"
            ],
            "application/vnd.jupyter.widget-view+json": {
              "version_major": 2,
              "version_minor": 0,
              "model_id": "f2e12eb1ff0d4f8aacbe554f0b25c8cd"
            }
          },
          "metadata": {}
        },
        {
          "output_type": "display_data",
          "data": {
            "text/plain": [
              "config.json:   0%|          | 0.00/483 [00:00<?, ?B/s]"
            ],
            "application/vnd.jupyter.widget-view+json": {
              "version_major": 2,
              "version_minor": 0,
              "model_id": "30f2a98f38a64bdbbc6da5d4272ccf3c"
            }
          },
          "metadata": {}
        },
        {
          "output_type": "display_data",
          "data": {
            "text/plain": [
              "vocab.txt:   0%|          | 0.00/232k [00:00<?, ?B/s]"
            ],
            "application/vnd.jupyter.widget-view+json": {
              "version_major": 2,
              "version_minor": 0,
              "model_id": "975cd94e82e347158709dff04b3980ff"
            }
          },
          "metadata": {}
        },
        {
          "output_type": "display_data",
          "data": {
            "text/plain": [
              "tokenizer.json:   0%|          | 0.00/466k [00:00<?, ?B/s]"
            ],
            "application/vnd.jupyter.widget-view+json": {
              "version_major": 2,
              "version_minor": 0,
              "model_id": "e91449312bc3405c80b2d234e136c5fb"
            }
          },
          "metadata": {}
        }
      ],
      "source": [
        "import torch\n",
        "from datasets import load_dataset\n",
        "from torch.utils.data import DataLoader\n",
        "\n",
        "# DistilBERT \ubaa8\ub378\uc6a9 tokenizer \ub85c\ub4dc (pretrained)\n",
        "# \uc774 tokenizer\ub294 \ubb38\uc7a5\uc744 \ud1a0\ud070\ud654\ud574\uc11c \ubaa8\ub378\uc774 \uc774\ud574\ud560 \uc218 \uc788\ub294 input_ids\ub85c \ubcc0\ud658\ud574\uc90c\n",
        "tokenizer = torch.hub.load('huggingface/pytorch-transformers', 'tokenizer', 'distilbert-base-uncased')"
      ]
    },
    {
      "cell_type": "markdown",
      "source": [
        "DistilBERT\uc758 tokenizer\ub97c \ubd88\ub7ec\uc654\uc73c\uba74 \uc774\uc81c `collate_fn`\uacfc data loader\ub97c \uc815\uc758\ud569\ub2c8\ub2e4. \uc774 \uacfc\uc815\uc740 \uc774\uc804 \uc2e4\uc2b5\uacfc \ub3d9\uc77c\ud558\uac8c \ub2e4\uc74c\uacfc \uac19\uc774 \uad6c\ud604\ud560 \uc218 \uc788\uc2b5\ub2c8\ub2e4."
      ],
      "metadata": {
        "id": "Cvfl_uFLIMWO"
      }
    },
    {
      "cell_type": "code",
      "source": [
        "# IMDB \uac10\uc815 \ubd84\uc11d \ub370\uc774\ud130\uc14b\uc758 5%\ub9cc \ub85c\ub4dc (\ud559\uc2b5 \ub370\uc774\ud130\uc640 \ud14c\uc2a4\ud2b8 \ub370\uc774\ud130 \uac01\uac01)\n",
        "train_ds = load_dataset(\"fancyzhx/ag_news\", split=\"train[:5%]\")\n",
        "test_ds = load_dataset(\"fancyzhx/ag_news\", split=\"test[:5%]\")\n",
        "\n",
        "print(train_ds[0])\n",
        "print(test_ds[0])\n",
        "\n",
        "# \ub370\uc774\ud130\ub97c \ubc30\uce58\ub85c \ubb36\uae30 \uc704\ud55c \ud568\uc218 \uc815\uc758\n",
        "def collate_fn(batch):\n",
        "    # max_len = 400  # \uc785\ub825 \ubb38\uc7a5\uc758 \ucd5c\ub300 \uae38\uc774 \uc124\uc815\n",
        "    texts, labels = [], []  # \uc785\ub825 \ubb38\uc7a5\ub4e4\uacfc \ub77c\ubca8\ub4e4\uc744 \uc800\uc7a5\ud560 \ub9ac\uc2a4\ud2b8\n",
        "\n",
        "    # \ubc30\uce58 \ub0b4 \uac01 \uc0d8\ud50c\uc5d0 \ub300\ud574 text\uc640 label \ucd94\ucd9c\n",
        "    for row in batch:\n",
        "        labels.append(row['label'])\n",
        "        texts.append(row['text'])\n",
        "\n",
        "    # tokenizer\ub85c \ud14d\uc2a4\ud2b8\ub97c \ud1a0\ud070\ud654\ud558\uace0, \ucd5c\ub300 \uae38\uc774\ub85c \ud328\ub529 \ubc0f \uc790\ub974\uae30\n",
        "    # tokenizer\ub294 \uc0ac\uc804\uc5d0 \uc815\uc758\ub418\uc5b4 \uc788\uc5b4\uc57c \ud568 (\uc608: tokenizer = AutoTokenizer.from_pretrained(...))\n",
        "    texts = torch.LongTensor(\n",
        "        tokenizer(texts, padding=True).input_ids\n",
        "    )\n",
        "\n",
        "    # \ub77c\ubca8 \ub9ac\uc2a4\ud2b8\ub97c LongTensor\ub85c \ubcc0\ud658\n",
        "    labels = torch.LongTensor(labels)\n",
        "\n",
        "    # \ubaa8\ub378 \ud559\uc2b5\uc5d0 \ud544\uc694\ud55c \uc785\ub825 (\ud1a0\ud070\ud654\ub41c \ubb38\uc7a5\ub4e4)\uacfc \uc815\ub2f5 \ub77c\ubca8 \ubc18\ud658\n",
        "    return texts, labels\n",
        "\n",
        "# \ud559\uc2b5\uc6a9 DataLoader \uc815\uc758 (shuffle=True\ub85c \ubc30\uce58 \uc21c\uc11c \ub79c\ub364\ud654)\n",
        "train_loader = DataLoader(\n",
        "    train_ds, batch_size=64, shuffle=True, collate_fn=collate_fn\n",
        ")\n",
        "\n",
        "# \ud14c\uc2a4\ud2b8\uc6a9 DataLoader \uc815\uc758 (shuffle=False\ub85c \ubc30\uce58 \uc21c\uc11c \uace0\uc815)\n",
        "test_loader = DataLoader(\n",
        "    test_ds, batch_size=64, shuffle=False, collate_fn=collate_fn\n",
        ")"
      ],
      "metadata": {
        "id": "rE-y8sY9HuwP",
        "colab": {
          "base_uri": "https://localhost:8080/",
          "height": 232,
          "referenced_widgets": [
            "ebb63d0185b24987a95cf1c42aac6541",
            "23838389cec44ceba5077a84de2285b5",
            "b2139244d7c94ffdadd23951a94d0fb7",
            "9bbd5b2762c14a4180e2d14e04d49792",
            "f29a5a10102545db90639d5fad4cf6e2",
            "43bbc7a812f94859ab933f5007fa2624",
            "998dd4f33cb04c1c8787a2aa19ecd3fd",
            "8edb31f6d5a546c28ea8c8f4b0322716",
            "edead5605ac04e97946c2461e9f3794d",
            "40d38da8ac8243d2af0ecae26986644d",
            "2561f91ee8024f8dbbcfb15af5c6facd",
            "f6b21e92c59a4d868d7a70862295a046",
            "5e198a8dc0604c13995cc7ae4bf0302c",
            "d648f7bcd24b4b869215fa6849ee1661",
            "b3ce14f040f542db926ee9fbb4276a89",
            "9bba5e68d1c748848e0dd8403f06b56d",
            "204f962158b343f089453b3d39f60d45",
            "fcbd765760434ed2977b10bfb5547e68",
            "0cb8ddce42f24a6082dd81bf0168a143",
            "498bf30661d3495682a91a38ea155495",
            "57218e2492a944c0affe4ce8e56d1fe3",
            "760b880bf57e43d8ba11aa165bffc075",
            "fcfb6c3780db448a858a0a90126caafb",
            "0aa88df715de4cdeb5ad1424346743d8",
            "31733c7c20a84a32896e4778367ae328",
            "d57ee7d8d7cc448bb3d8b8bf8d247d1e",
            "14aaf07f7e6a4c9399fb8c91aefc3d7d",
            "e36f84ca338d4acbbc34cf1347b1ca53",
            "a66eb269efeb4cab97417078c8bd6cb6",
            "e8568a37f73a48b78d8b6e28a42619cf",
            "7a34467c3d58486caa9ba6e5cc8c557b",
            "7be8e13d63d8497993d7b5e46546a472",
            "a464230592ce499ca78a346a73fd3099",
            "c975d57d7b194f888bc83469a1db8512",
            "8ab434c097d941c99ff2bc4efbb55e38",
            "554716fa1c2c4934a16eea3da513de9e",
            "054a1a5e535a42f29a732ec76f9fdf58",
            "0759b567121d49f18dca1ff2491228d6",
            "9f757aba43cc4dc19f1278f1e9df46b9",
            "93ec7a99ecb8444dbbfdc704f7a9ee04",
            "a3971e303702497ca4c7da67bab61478",
            "5d0047ea76824a68a440d54dbc758589",
            "25a1d32f75ad4d46bcbee4a5a30c12c7",
            "bfceb9fa9c19425ca4861fc8df38bfed",
            "8b1396b71e75415b837c93e561b23764",
            "34a8258835e840319d45e20aebfdd13b",
            "5ef35b006d1d486fa1e3b4076164d872",
            "470ec1a557f540c4a8ca7237cf2606bd",
            "fb0bb2403c084bd780863a9642aa18d4",
            "474e96dfe51b42768466470b43fecca5",
            "c9df798b3c1349029524a669a0cad669",
            "0f99e90fa6d7499aaf119c188cf74950",
            "b40edb9d50fd41e39a4b6a19daf1f207",
            "7de0854633c041dab40df26671d5012e",
            "854bcc5405554389a3cbf70d51beeac2"
          ]
        },
        "executionInfo": {
          "status": "ok",
          "timestamp": 1744024135414,
          "user_tz": -540,
          "elapsed": 10948,
          "user": {
            "displayName": "si hyeok",
            "userId": "14050594561017177394"
          }
        },
        "outputId": "a56dce20-4bd6-483b-fab9-7cbbd2d5f4f6"
      },
      "execution_count": 3,
      "outputs": [
        {
          "output_type": "display_data",
          "data": {
            "text/plain": [
              "README.md:   0%|          | 0.00/8.07k [00:00<?, ?B/s]"
            ],
            "application/vnd.jupyter.widget-view+json": {
              "version_major": 2,
              "version_minor": 0,
              "model_id": "ebb63d0185b24987a95cf1c42aac6541"
            }
          },
          "metadata": {}
        },
        {
          "output_type": "display_data",
          "data": {
            "text/plain": [
              "train-00000-of-00001.parquet:   0%|          | 0.00/18.6M [00:00<?, ?B/s]"
            ],
            "application/vnd.jupyter.widget-view+json": {
              "version_major": 2,
              "version_minor": 0,
              "model_id": "f6b21e92c59a4d868d7a70862295a046"
            }
          },
          "metadata": {}
        },
        {
          "output_type": "display_data",
          "data": {
            "text/plain": [
              "test-00000-of-00001.parquet:   0%|          | 0.00/1.23M [00:00<?, ?B/s]"
            ],
            "application/vnd.jupyter.widget-view+json": {
              "version_major": 2,
              "version_minor": 0,
              "model_id": "fcfb6c3780db448a858a0a90126caafb"
            }
          },
          "metadata": {}
        },
        {
          "output_type": "display_data",
          "data": {
            "text/plain": [
              "Generating train split:   0%|          | 0/120000 [00:00<?, ? examples/s]"
            ],
            "application/vnd.jupyter.widget-view+json": {
              "version_major": 2,
              "version_minor": 0,
              "model_id": "c975d57d7b194f888bc83469a1db8512"
            }
          },
          "metadata": {}
        },
        {
          "output_type": "display_data",
          "data": {
            "text/plain": [
              "Generating test split:   0%|          | 0/7600 [00:00<?, ? examples/s]"
            ],
            "application/vnd.jupyter.widget-view+json": {
              "version_major": 2,
              "version_minor": 0,
              "model_id": "8b1396b71e75415b837c93e561b23764"
            }
          },
          "metadata": {}
        },
        {
          "output_type": "stream",
          "name": "stdout",
          "text": [
            "{'text': \"Wall St. Bears Claw Back Into the Black (Reuters) Reuters - Short-sellers, Wall Street's dwindling\\\\band of ultra-cynics, are seeing green again.\", 'label': 2}\n",
            "{'text': \"Fears for T N pension after talks Unions representing workers at Turner   Newall say they are 'disappointed' after talks with stricken parent firm Federal Mogul.\", 'label': 2}\n"
          ]
        }
      ]
    },
    {
      "cell_type": "markdown",
      "source": [
        "\uc774\uc81c pre-trained DistilBERT\ub97c \ubd88\ub7ec\uc635\ub2c8\ub2e4. \uc774\ubc88\uc5d0\ub294 PyTorch hub\uc5d0\uc11c \uc81c\uacf5\ud558\ub294 DistilBERT\ub97c \ubd88\ub7ec\ubd05\uc2dc\ub2e4."
      ],
      "metadata": {
        "id": "bF34XkoYIeEm"
      }
    },
    {
      "cell_type": "code",
      "execution_count": 4,
      "metadata": {
        "colab": {
          "base_uri": "https://localhost:8080/",
          "height": 625,
          "referenced_widgets": [
            "944631a7a64f414ca20b5eef418ccf28",
            "8824cc27c7fb4e47872848a15e389dcf",
            "db544d8750744190a5b277def87388df",
            "7d4f100f8e8046fc943f627b629f2042",
            "ff5eb7b7cc504d2db71c1957dc2251a5",
            "c6b6d076aaba4ad0a2454dc739b6e9ba",
            "758e27954f374dcca54f54b57d39b3c8",
            "1f82c550ed514c4c828a5e1f0b6cf85a",
            "abc66f27a6f3440b89d14ff5b5e2221d",
            "cc16277f77fa43ac8f458263e072400d",
            "5f6e0eb572174449a29061f3f565db04"
          ]
        },
        "executionInfo": {
          "elapsed": 9419,
          "status": "ok",
          "timestamp": 1744024144836,
          "user": {
            "displayName": "si hyeok",
            "userId": "14050594561017177394"
          },
          "user_tz": -540
        },
        "id": "HJaUp2Vob0U-",
        "outputId": "e4c59d03-29bd-4385-818c-497752570130"
      },
      "outputs": [
        {
          "output_type": "stream",
          "name": "stderr",
          "text": [
            "Using cache found in /root/.cache/torch/hub/huggingface_pytorch-transformers_main\n",
            "Xet Storage is enabled for this repo, but the 'hf_xet' package is not installed. Falling back to regular HTTP download. For better performance, install the package with: `pip install huggingface_hub[hf_xet]` or `pip install hf_xet`\n",
            "WARNING:huggingface_hub.file_download:Xet Storage is enabled for this repo, but the 'hf_xet' package is not installed. Falling back to regular HTTP download. For better performance, install the package with: `pip install huggingface_hub[hf_xet]` or `pip install hf_xet`\n"
          ]
        },
        {
          "output_type": "display_data",
          "data": {
            "text/plain": [
              "model.safetensors:   0%|          | 0.00/268M [00:00<?, ?B/s]"
            ],
            "application/vnd.jupyter.widget-view+json": {
              "version_major": 2,
              "version_minor": 0,
              "model_id": "944631a7a64f414ca20b5eef418ccf28"
            }
          },
          "metadata": {}
        },
        {
          "output_type": "execute_result",
          "data": {
            "text/plain": [
              "DistilBertModel(\n",
              "  (embeddings): Embeddings(\n",
              "    (word_embeddings): Embedding(30522, 768, padding_idx=0)\n",
              "    (position_embeddings): Embedding(512, 768)\n",
              "    (LayerNorm): LayerNorm((768,), eps=1e-12, elementwise_affine=True)\n",
              "    (dropout): Dropout(p=0.1, inplace=False)\n",
              "  )\n",
              "  (transformer): Transformer(\n",
              "    (layer): ModuleList(\n",
              "      (0-5): 6 x TransformerBlock(\n",
              "        (attention): DistilBertSdpaAttention(\n",
              "          (dropout): Dropout(p=0.1, inplace=False)\n",
              "          (q_lin): Linear(in_features=768, out_features=768, bias=True)\n",
              "          (k_lin): Linear(in_features=768, out_features=768, bias=True)\n",
              "          (v_lin): Linear(in_features=768, out_features=768, bias=True)\n",
              "          (out_lin): Linear(in_features=768, out_features=768, bias=True)\n",
              "        )\n",
              "        (sa_layer_norm): LayerNorm((768,), eps=1e-12, elementwise_affine=True)\n",
              "        (ffn): FFN(\n",
              "          (dropout): Dropout(p=0.1, inplace=False)\n",
              "          (lin1): Linear(in_features=768, out_features=3072, bias=True)\n",
              "          (lin2): Linear(in_features=3072, out_features=768, bias=True)\n",
              "          (activation): GELUActivation()\n",
              "        )\n",
              "        (output_layer_norm): LayerNorm((768,), eps=1e-12, elementwise_affine=True)\n",
              "      )\n",
              "    )\n",
              "  )\n",
              ")"
            ]
          },
          "metadata": {},
          "execution_count": 4
        }
      ],
      "source": [
        "#DistilBERT \ubaa8\ub378\uc744 PyTorch Hub\uc5d0\uc11c \ub85c\ub4dc \ud6c4 model \ucd9c\ub825\n",
        "model = torch.hub.load('huggingface/pytorch-transformers', 'model', 'distilbert-base-uncased')\n",
        "model"
      ]
    },
    {
      "cell_type": "markdown",
      "source": [
        "\ucd9c\ub825 \uacb0\uacfc\ub97c \ud1b5\ud574 \uc6b0\ub9ac\ub294 DistilBERT\uc758 architecture\ub294 \uc77c\ubc18\uc801\uc778 Transformer\uc640 \ub3d9\uc77c\ud55c \uac83\uc744 \uc54c \uc218 \uc788\uc2b5\ub2c8\ub2e4.\n",
        "Embedding layer\ub85c \uc2dc\uc791\ud574\uc11c \uc5ec\ub7ec layer\uc758 Attention, FFN\ub97c \uac70\uce69\ub2c8\ub2e4.\n",
        "\n",
        "\uc774\uc81c DistilBERT\ub97c \uac70\uce58\uace0 \ub09c `[CLS]` token\uc758 representation\uc744 \uac00\uc9c0\uace0 text \ubd84\ub958\ub97c \ud558\ub294 \ubaa8\ub378\uc744 \uad6c\ud604\ud569\uc2dc\ub2e4."
      ],
      "metadata": {
        "id": "uh-tqY8WInQt"
      }
    },
    {
      "cell_type": "code",
      "execution_count": 5,
      "metadata": {
        "colab": {
          "base_uri": "https://localhost:8080/"
        },
        "executionInfo": {
          "elapsed": 420,
          "status": "ok",
          "timestamp": 1744024145258,
          "user": {
            "displayName": "si hyeok",
            "userId": "14050594561017177394"
          },
          "user_tz": -540
        },
        "id": "xW7ETZQzzNp2",
        "outputId": "a837cff3-014b-4cea-e9d3-b316df871fb0"
      },
      "outputs": [
        {
          "output_type": "stream",
          "name": "stderr",
          "text": [
            "Using cache found in /root/.cache/torch/hub/huggingface_pytorch-transformers_main\n"
          ]
        }
      ],
      "source": [
        "from torch import nn\n",
        "\n",
        "# \ud14d\uc2a4\ud2b8 \ubd84\ub958 \ubaa8\ub378 \uc815\uc758 (DistilBERT + Linear layer)\n",
        "class TextClassifier(nn.Module):\n",
        "    def __init__(self):\n",
        "        super().__init__()\n",
        "\n",
        "        # \uc0ac\uc804\ud559\uc2b5\ub41c DistilBERT \ubaa8\ub378\uc744 encoder\ub85c \ubd88\ub7ec\uc634 (pretrained transformer)\n",
        "        self.encoder = torch.hub.load('huggingface/pytorch-transformers', 'model', 'distilbert-base-uncased')\n",
        "\n",
        "\n",
        "        # [CLS] \ud1a0\ud070 \ubd84\ub958\uae30 \uc815\uc758\n",
        "        self.classifier = nn.Linear(768, 4)\n",
        "\n",
        "    def forward(self, x):\n",
        "        # encoder\uc5d0 input_ids \uc804\ub2ec\n",
        "        x = self.encoder(x)['last_hidden_state']\n",
        "\n",
        "        # [CLS] \ud1a0\ud070 \uc704\uce58 \ubca1\ud130\ub97c classification head\uc5d0 \uc804\ub2ec\n",
        "        x = self.classifier(x[:, 0])\n",
        "\n",
        "        return x  # logit \ucd9c\ub825\n",
        "\n",
        "model = TextClassifier()"
      ]
    },
    {
      "cell_type": "markdown",
      "source": [
        "\uc704\uc640 \uac19\uc774 `TextClassifier`\uc758 `encoder`\ub97c \ubd88\ub7ec\uc628 DistilBERT, \uadf8\ub9ac\uace0 `classifier`\ub97c linear layer\ub85c \uc124\uc815\ud569\ub2c8\ub2e4.\n",
        "\uadf8\ub9ac\uace0 `forward` \ud568\uc218\uc5d0\uc11c \uc21c\ucc28\uc801\uc73c\ub85c \uc0ac\uc6a9\ud558\uc5ec \uc608\uce21 \uacb0\uacfc\ub97c \ubc18\ud658\ud569\ub2c8\ub2e4.\n",
        "\n",
        "\ub2e4\uc74c\uc740 \ub9c8\uc9c0\ub9c9 classifier layer\ub97c \uc81c\uc678\ud55c \ub098\uba38\uc9c0 \ubd80\ubd84\uc744 freeze\ud558\ub294 \ucf54\ub4dc\ub97c \uad6c\ud604\ud569\ub2c8\ub2e4."
      ],
      "metadata": {
        "id": "_hFvSis0JLju"
      }
    },
    {
      "cell_type": "code",
      "execution_count": 6,
      "metadata": {
        "id": "uyTciaPZ0KYo",
        "executionInfo": {
          "status": "ok",
          "timestamp": 1744024145260,
          "user_tz": -540,
          "elapsed": 3,
          "user": {
            "displayName": "si hyeok",
            "userId": "14050594561017177394"
          }
        }
      },
      "outputs": [],
      "source": [
        "for param in model.encoder.parameters():\n",
        "  param.requires_grad = False"
      ]
    },
    {
      "cell_type": "code",
      "source": [
        "def accuracy(model, dataloader):\n",
        "    cnt = 0      # \uc804\uccb4 \uc0d8\ud50c \uc218\n",
        "    acc = 0      # \uc815\ub2f5 \uac1c\uc218 \ub204\uc801\n",
        "\n",
        "    for data in dataloader:\n",
        "        inputs, labels = data\n",
        "        inputs, labels = inputs.to('cuda'), labels.to('cuda')\n",
        "\n",
        "        preds = model(inputs)  # \ub85c\uc9d3(logit) \ucd9c\ub825\n",
        "\n",
        "        # \uc2dc\uadf8\ubaa8\uc774\ub4dc\ub294 \uc0dd\ub7b5 \uac00\ub2a5 (BCEWithLogitsLoss\ub97c \uc37c\ub2e4\uba74 threshold\ub9cc \uc801\uc6a9)\n",
        "        preds = torch.argmax(preds, dim=-1)\n",
        "        # preds = (preds > 0).long()[..., 0]\n",
        "\n",
        "        cnt += labels.shape[0]  # \ucd1d \uc0d8\ud50c \uc218 \ub204\uc801\n",
        "        acc += (labels == preds).sum().item()  # \uc608\uce21\uc774 \ub9de\uc740 \uc218 \ub204\uc801\n",
        "\n",
        "    return acc / cnt  # \uc815\ud655\ub3c4 \ubc18\ud658"
      ],
      "metadata": {
        "id": "sL8TI4KfDLsl",
        "executionInfo": {
          "status": "ok",
          "timestamp": 1744024145302,
          "user_tz": -540,
          "elapsed": 26,
          "user": {
            "displayName": "si hyeok",
            "userId": "14050594561017177394"
          }
        }
      },
      "execution_count": 7,
      "outputs": []
    },
    {
      "cell_type": "markdown",
      "source": [
        "\uc704\uc758 \ucf54\ub4dc\ub294 `encoder`\uc5d0 \ud574\ub2f9\ud558\ub294 parameter\ub4e4\uc758 `requires_grad`\ub97c `False`\ub85c \uc124\uc815\ud558\ub294 \ubaa8\uc2b5\uc785\ub2c8\ub2e4.\n",
        "`requires_grad`\ub97c `False`\ub85c \ub450\ub294 \uacbd\uc6b0, gradient \uacc4\uc0b0 \ubc0f \uc5c5\ub370\uc774\ud2b8\uac00 \uc774\ub8e8\uc5b4\uc9c0\uc9c0 \uc54a\uc544 \uacb0\uacfc\uc801\uc73c\ub85c \ud559\uc2b5\uc774 \ub418\uc9c0 \uc54a\uc2b5\ub2c8\ub2e4.\n",
        "\uc989, \ub9c8\uc9c0\ub9c9 `classifier`\uc5d0 \ud574\ub2f9\ud558\ub294 linear layer\ub9cc \ud559\uc2b5\uc774 \uc774\ub8e8\uc5b4\uc9d1\ub2c8\ub2e4.\n",
        "\uc774\ub7f0 \uc2dd\uc73c\ub85c \ud2b9\uc815 \ubd80\ubd84\ub4e4\uc744 freeze\ud558\uac8c \ub418\uba74 \ud6a8\uc728\uc801\uc73c\ub85c \ud559\uc2b5\uc744 \ud560 \uc218 \uc788\uc2b5\ub2c8\ub2e4.\n",
        "\n",
        "\ub9c8\uc9c0\ub9c9\uc73c\ub85c \uc774\uc804\uacfc \uac19\uc740 \ucf54\ub4dc\ub97c \uc0ac\uc6a9\ud558\uc5ec \ud559\uc2b5 \uacb0\uacfc\ub97c \ud655\uc778\ud574\ubd05\uc2dc\ub2e4."
      ],
      "metadata": {
        "id": "hU7BWEbgJeKm"
      }
    },
    {
      "cell_type": "code",
      "execution_count": 8,
      "metadata": {
        "colab": {
          "base_uri": "https://localhost:8080/"
        },
        "id": "XvvaAEwCznt-",
        "executionInfo": {
          "status": "ok",
          "timestamp": 1744025167972,
          "user_tz": -540,
          "elapsed": 1022642,
          "user": {
            "displayName": "si hyeok",
            "userId": "14050594561017177394"
          }
        },
        "outputId": "353bb8e7-59a8-49e0-bb34-d32f73c04ab5"
      },
      "outputs": [
        {
          "output_type": "stream",
          "name": "stderr",
          "text": [
            "We strongly recommend passing in an `attention_mask` since your input_ids may be padded. See https://huggingface.co/docs/transformers/troubleshooting#incorrect-output-when-padding-tokens-arent-masked.\n"
          ]
        },
        {
          "output_type": "stream",
          "name": "stdout",
          "text": [
            "Epoch   0 | Train Loss: 101.25812011957169\n",
            "Epoch   1 | Train Loss: 69.91924700140953\n",
            "Epoch   2 | Train Loss: 59.966129153966904\n",
            "Epoch   3 | Train Loss: 54.08908128738403\n",
            "Epoch   4 | Train Loss: 51.381760627031326\n",
            "Epoch   5 | Train Loss: 49.01686280965805\n",
            "Epoch   6 | Train Loss: 47.8739669919014\n",
            "Epoch   7 | Train Loss: 46.77365732192993\n",
            "Epoch   8 | Train Loss: 45.41434846818447\n",
            "Epoch   9 | Train Loss: 45.02356457710266\n",
            "Epoch  10 | Train Loss: 43.96321478486061\n",
            "Epoch  11 | Train Loss: 43.731411427259445\n",
            "Epoch  12 | Train Loss: 42.89641197025776\n",
            "Epoch  13 | Train Loss: 42.193721637129784\n",
            "Epoch  14 | Train Loss: 42.41414752602577\n",
            "Epoch  15 | Train Loss: 41.45425146818161\n",
            "Epoch  16 | Train Loss: 41.57609011232853\n",
            "Epoch  17 | Train Loss: 40.86055278778076\n",
            "Epoch  18 | Train Loss: 40.78179316222668\n",
            "Epoch  19 | Train Loss: 40.608363315463066\n"
          ]
        }
      ],
      "source": [
        "from torch.optim import Adam\n",
        "import numpy as np\n",
        "import matplotlib.pyplot as plt\n",
        "\n",
        "train_accs = []\n",
        "test_accs = []\n",
        "\n",
        "# \ud559\uc2b5 \uc124\uc815\n",
        "lr = 0.001\n",
        "model = model.to('cuda')  # \ubaa8\ub378\uc744 GPU\ub85c \uc774\ub3d9\n",
        "loss_fn = nn.CrossEntropyLoss()  # \uc774\uc9c4 \ubd84\ub958\uc6a9 \uc190\uc2e4 \ud568\uc218 >> classification \ubd84\ub958\uc6a9 \uc190\uc2e4 \ud568\uc218\n",
        "\n",
        "optimizer = Adam(model.parameters(), lr=lr)\n",
        "n_epochs = 20\n",
        "\n",
        "# \ud559\uc2b5 \ub8e8\ud504\n",
        "for epoch in range(n_epochs):\n",
        "    total_loss = 0.\n",
        "    model.train()  # \ud559\uc2b5 \ubaa8\ub4dc \uc124\uc815\n",
        "\n",
        "    for data in train_loader:\n",
        "        model.zero_grad()  # \uc774\uc804 gradient \ucd08\uae30\ud654\n",
        "\n",
        "        inputs, labels = data\n",
        "        # inputs, labels = inputs.to('cuda'), labels.to('cuda').float()  # GPU \uc774\ub3d9 \ubc0f float \ubcc0\ud658\n",
        "        inputs, labels = inputs.to('cuda'), labels.to('cuda')\n",
        "\n",
        "        # preds = model(inputs)[..., 0]  # \ucd9c\ub825 \ucc28\uc6d0 \ub9de\ucd94\uae30 (batch_size,)\n",
        "        preds = model(inputs)\n",
        "\n",
        "        loss = loss_fn(preds, labels)  # \uc190\uc2e4 \uacc4\uc0b0\n",
        "        loss.backward()  # \uc5ed\uc804\ud30c\n",
        "        optimizer.step()  # \ud30c\ub77c\ubbf8\ud130 \uc5c5\ub370\uc774\ud2b8\n",
        "\n",
        "        total_loss += loss.item()  # loss \ub204\uc801\n",
        "\n",
        "    with torch.no_grad():\n",
        "      model.eval()  # \ud3c9\uac00 \ubaa8\ub4dc\ub85c \uc804\ud658 (\uacc4\uc0b0 \ube44\ud65c\uc131\ud654)\n",
        "      train_accs.append(accuracy(model, train_loader))\n",
        "      test_accs.append(accuracy(model, test_loader))\n",
        "\n",
        "    print(f\"Epoch {epoch:3d} | Train Loss: {total_loss}\")"
      ]
    },
    {
      "cell_type": "code",
      "source": [
        "def plot_acc(train_accs, test_accs, label1='train', label2='test'):\n",
        "  x = np.arange(len(train_accs))\n",
        "\n",
        "  plt.plot(x, train_accs, label=label1)\n",
        "  plt.plot(x, test_accs, label=label2)\n",
        "  plt.legend()\n",
        "  plt.show()"
      ],
      "metadata": {
        "id": "Foks5u95ZQ1_",
        "executionInfo": {
          "status": "ok",
          "timestamp": 1744025167978,
          "user_tz": -540,
          "elapsed": 3,
          "user": {
            "displayName": "si hyeok",
            "userId": "14050594561017177394"
          }
        }
      },
      "execution_count": 9,
      "outputs": []
    },
    {
      "cell_type": "code",
      "source": [
        "plot_acc(train_accs, test_accs, 'train', 'test')"
      ],
      "metadata": {
        "colab": {
          "base_uri": "https://localhost:8080/",
          "height": 430
        },
        "id": "twFx7CQ0Fxrt",
        "executionInfo": {
          "status": "ok",
          "timestamp": 1744025168242,
          "user_tz": -540,
          "elapsed": 262,
          "user": {
            "displayName": "si hyeok",
            "userId": "14050594561017177394"
          }
        },
        "outputId": "7bd3b118-1b03-4266-ef18-81740a421d41"
      },
      "execution_count": 10,
      "outputs": [
        {
          "output_type": "display_data",
          "data": {
            "text/plain": [
              "<Figure size 640x480 with 1 Axes>"
            ],
            "image/png": "[encoded data removed]"
          },
          "metadata": {}
        }
      ]
    },
    {
      "cell_type": "code",
      "source": [],
      "metadata": {
        "id": "82f7bMUOGDlS",
        "executionInfo": {
          "status": "ok",
          "timestamp": 1744025168246,
          "user_tz": -540,
          "elapsed": 3,
          "user": {
            "displayName": "si hyeok",
            "userId": "14050594561017177394"
          }
        }
      },
      "execution_count": 10,
      "outputs": []
    },
    {
      "source": [
        "model.eval()  # \ubaa8\ub378\uc744 \ud3c9\uac00 \ubaa8\ub4dc\ub85c \uc124\uc815\n",
        "\n",
        "with torch.no_grad():  # Gradient \uacc4\uc0b0 \ube44\ud65c\uc131\ud654\n",
        "    for data in test_loader:\n",
        "        inputs, labels = data\n",
        "        inputs, labels = inputs.to('cuda'), labels.to('cuda')  # \ub370\uc774\ud130\ub97c GPU\ub85c \uc774\ub3d9\n",
        "\n",
        "        outputs = model(inputs)  # \ubaa8\ub378\uc5d0 \uc785\ub825 \ub370\uc774\ud130\ub97c \uc804\ub2ec\ud558\uc5ec \ucd9c\ub825 \uc5bb\uae30\n",
        "        predicted_labels = torch.argmax(outputs, dim=1)  # \ucd9c\ub825\uc5d0\uc11c \uac00\uc7a5 \ud070 \uac12\uc744 \uac00\uc9c4 \ud074\ub798\uc2a4 \uc608\uce21\n",
        "\n",
        "        # \uc608\uce21 \uacb0\uacfc\uc640 \uc2e4\uc81c \ub77c\ubca8 \ucd9c\ub825 \ubc0f \ube44\uad50\n",
        "        for i in range(len(predicted_labels)):\n",
        "            predicted_label = predicted_labels[i].item()\n",
        "            actual_label = labels[i].item()\n",
        "\n",
        "            # \ud074\ub798\uc2a4 \uc774\ub984 \uac00\uc838\uc624\uae30\n",
        "            predicted_class_name = train_ds.features['label'].names[predicted_label]\n",
        "            actual_class_name = train_ds.features['label'].names[actual_label]\n",
        "\n",
        "            print(f\"[{ 'SUCCESS' if predicted_label == actual_label else 'FAIL' }]\",f\"\uc608\uce21: {predicted_label}({predicted_class_name}), \uc2e4\uc81c: {actual_label}({actual_class_name})\")"
      ],
      "cell_type": "code",
      "metadata": {
        "colab": {
          "base_uri": "https://localhost:8080/"
        },
        "id": "hk-fzILEGlPJ",
        "executionInfo": {
          "status": "ok",
          "timestamp": 1744025169677,
          "user_tz": -540,
          "elapsed": 1429,
          "user": {
            "displayName": "si hyeok",
            "userId": "14050594561017177394"
          }
        },
        "outputId": "402d5875-23ea-4401-b91e-9340e254e0fc"
      },
      "execution_count": 11,
      "outputs": [
        {
          "output_type": "stream",
          "name": "stdout",
          "text": [
            "[SUCCESS] \uc608\uce21: 2(Business), \uc2e4\uc81c: 2(Business)\n",
            "[SUCCESS] \uc608\uce21: 3(Sci/Tech), \uc2e4\uc81c: 3(Sci/Tech)\n",
            "[SUCCESS] \uc608\uce21: 3(Sci/Tech), \uc2e4\uc81c: 3(Sci/Tech)\n",
            "[SUCCESS] \uc608\uce21: 3(Sci/Tech), \uc2e4\uc81c: 3(Sci/Tech)\n",
            "[SUCCESS] \uc608\uce21: 3(Sci/Tech), \uc2e4\uc81c: 3(Sci/Tech)\n",
            "[SUCCESS] \uc608\uce21: 3(Sci/Tech), \uc2e4\uc81c: 3(Sci/Tech)\n",
            "[SUCCESS] \uc608\uce21: 3(Sci/Tech), \uc2e4\uc81c: 3(Sci/Tech)\n",
            "[SUCCESS] \uc608\uce21: 3(Sci/Tech), \uc2e4\uc81c: 3(Sci/Tech)\n",
            "[SUCCESS] \uc608\uce21: 3(Sci/Tech), \uc2e4\uc81c: 3(Sci/Tech)\n",
            "[SUCCESS] \uc608\uce21: 3(Sci/Tech), \uc2e4\uc81c: 3(Sci/Tech)\n",
            "[SUCCESS] \uc608\uce21: 3(Sci/Tech), \uc2e4\uc81c: 3(Sci/Tech)\n",
            "[SUCCESS] \uc608\uce21: 3(Sci/Tech), \uc2e4\uc81c: 3(Sci/Tech)\n",
            "[SUCCESS] \uc608\uce21: 3(Sci/Tech), \uc2e4\uc81c: 3(Sci/Tech)\n",
            "[SUCCESS] \uc608\uce21: 3(Sci/Tech), \uc2e4\uc81c: 3(Sci/Tech)\n",
            "[SUCCESS] \uc608\uce21: 3(Sci/Tech), \uc2e4\uc81c: 3(Sci/Tech)\n",
            "[SUCCESS] \uc608\uce21: 3(Sci/Tech), \uc2e4\uc81c: 3(Sci/Tech)\n",
            "[SUCCESS] \uc608\uce21: 3(Sci/Tech), \uc2e4\uc81c: 3(Sci/Tech)\n",
            "[SUCCESS] \uc608\uce21: 3(Sci/Tech), \uc2e4\uc81c: 3(Sci/Tech)\n",
            "[SUCCESS] \uc608\uce21: 3(Sci/Tech), \uc2e4\uc81c: 3(Sci/Tech)\n",
            "[FAIL] \uc608\uce21: 2(Business), \uc2e4\uc81c: 3(Sci/Tech)\n",
            "[SUCCESS] \uc608\uce21: 3(Sci/Tech), \uc2e4\uc81c: 3(Sci/Tech)\n",
            "[SUCCESS] \uc608\uce21: 3(Sci/Tech), \uc2e4\uc81c: 3(Sci/Tech)\n",
            "[SUCCESS] \uc608\uce21: 3(Sci/Tech), \uc2e4\uc81c: 3(Sci/Tech)\n",
            "[FAIL] \uc608\uce21: 2(Business), \uc2e4\uc81c: 3(Sci/Tech)\n",
            "[FAIL] \uc608\uce21: 2(Business), \uc2e4\uc81c: 3(Sci/Tech)\n",
            "[SUCCESS] \uc608\uce21: 3(Sci/Tech), \uc2e4\uc81c: 3(Sci/Tech)\n",
            "[SUCCESS] \uc608\uce21: 1(Sports), \uc2e4\uc81c: 1(Sports)\n",
            "[SUCCESS] \uc608\uce21: 1(Sports), \uc2e4\uc81c: 1(Sports)\n",
            "[SUCCESS] \uc608\uce21: 1(Sports), \uc2e4\uc81c: 1(Sports)\n",
            "[SUCCESS] \uc608\uce21: 1(Sports), \uc2e4\uc81c: 1(Sports)\n",
            "[FAIL] \uc608\uce21: 0(World), \uc2e4\uc81c: 1(Sports)\n",
            "[SUCCESS] \uc608\uce21: 1(Sports), \uc2e4\uc81c: 1(Sports)\n",
            "[SUCCESS] \uc608\uce21: 0(World), \uc2e4\uc81c: 0(World)\n",
            "[SUCCESS] \uc608\uce21: 0(World), \uc2e4\uc81c: 0(World)\n",
            "[SUCCESS] \uc608\uce21: 0(World), \uc2e4\uc81c: 0(World)\n",
            "[SUCCESS] \uc608\uce21: 0(World), \uc2e4\uc81c: 0(World)\n",
            "[SUCCESS] \uc608\uce21: 0(World), \uc2e4\uc81c: 0(World)\n",
            "[FAIL] \uc608\uce21: 3(Sci/Tech), \uc2e4\uc81c: 0(World)\n",
            "[SUCCESS] \uc608\uce21: 0(World), \uc2e4\uc81c: 0(World)\n",
            "[SUCCESS] \uc608\uce21: 0(World), \uc2e4\uc81c: 0(World)\n",
            "[SUCCESS] \uc608\uce21: 1(Sports), \uc2e4\uc81c: 1(Sports)\n",
            "[FAIL] \uc608\uce21: 3(Sci/Tech), \uc2e4\uc81c: 2(Business)\n",
            "[SUCCESS] \uc608\uce21: 0(World), \uc2e4\uc81c: 0(World)\n",
            "[SUCCESS] \uc608\uce21: 3(Sci/Tech), \uc2e4\uc81c: 3(Sci/Tech)\n",
            "[SUCCESS] \uc608\uce21: 1(Sports), \uc2e4\uc81c: 1(Sports)\n",
            "[SUCCESS] \uc608\uce21: 1(Sports), \uc2e4\uc81c: 1(Sports)\n",
            "[SUCCESS] \uc608\uce21: 0(World), \uc2e4\uc81c: 0(World)\n",
            "[FAIL] \uc608\uce21: 2(Business), \uc2e4\uc81c: 3(Sci/Tech)\n",
            "[SUCCESS] \uc608\uce21: 0(World), \uc2e4\uc81c: 0(World)\n",
            "[SUCCESS] \uc608\uce21: 1(Sports), \uc2e4\uc81c: 1(Sports)\n",
            "[SUCCESS] \uc608\uce21: 0(World), \uc2e4\uc81c: 0(World)\n",
            "[SUCCESS] \uc608\uce21: 1(Sports), \uc2e4\uc81c: 1(Sports)\n",
            "[SUCCESS] \uc608\uce21: 0(World), \uc2e4\uc81c: 0(World)\n",
            "[SUCCESS] \uc608\uce21: 3(Sci/Tech), \uc2e4\uc81c: 3(Sci/Tech)\n",
            "[SUCCESS] \uc608\uce21: 2(Business), \uc2e4\uc81c: 2(Business)\n",
            "[SUCCESS] \uc608\uce21: 3(Sci/Tech), \uc2e4\uc81c: 3(Sci/Tech)\n",
            "[FAIL] \uc608\uce21: 2(Business), \uc2e4\uc81c: 0(World)\n",
            "[SUCCESS] \uc608\uce21: 0(World), \uc2e4\uc81c: 0(World)\n",
            "[SUCCESS] \uc608\uce21: 2(Business), \uc2e4\uc81c: 2(Business)\n",
            "[SUCCESS] \uc608\uce21: 2(Business), \uc2e4\uc81c: 2(Business)\n",
            "[SUCCESS] \uc608\uce21: 1(Sports), \uc2e4\uc81c: 1(Sports)\n",
            "[SUCCESS] \uc608\uce21: 1(Sports), \uc2e4\uc81c: 1(Sports)\n",
            "[SUCCESS] \uc608\uce21: 1(Sports), \uc2e4\uc81c: 1(Sports)\n",
            "[SUCCESS] \uc608\uce21: 3(Sci/Tech), \uc2e4\uc81c: 3(Sci/Tech)\n",
            "[SUCCESS] \uc608\uce21: 0(World), \uc2e4\uc81c: 0(World)\n",
            "[SUCCESS] \uc608\uce21: 3(Sci/Tech), \uc2e4\uc81c: 3(Sci/Tech)\n",
            "[SUCCESS] \uc608\uce21: 0(World), \uc2e4\uc81c: 0(World)\n",
            "[SUCCESS] \uc608\uce21: 0(World), \uc2e4\uc81c: 0(World)\n",
            "[SUCCESS] \uc608\uce21: 1(Sports), \uc2e4\uc81c: 1(Sports)\n",
            "[SUCCESS] \uc608\uce21: 0(World), \uc2e4\uc81c: 0(World)\n",
            "[SUCCESS] \uc608\uce21: 3(Sci/Tech), \uc2e4\uc81c: 3(Sci/Tech)\n",
            "[SUCCESS] \uc608\uce21: 3(Sci/Tech), \uc2e4\uc81c: 3(Sci/Tech)\n",
            "[SUCCESS] \uc608\uce21: 3(Sci/Tech), \uc2e4\uc81c: 3(Sci/Tech)\n",
            "[SUCCESS] \uc608\uce21: 0(World), \uc2e4\uc81c: 0(World)\n",
            "[SUCCESS] \uc608\uce21: 3(Sci/Tech), \uc2e4\uc81c: 3(Sci/Tech)\n",
            "[SUCCESS] \uc608\uce21: 1(Sports), \uc2e4\uc81c: 1(Sports)\n",
            "[SUCCESS] \uc608\uce21: 0(World), \uc2e4\uc81c: 0(World)\n",
            "[SUCCESS] \uc608\uce21: 1(Sports), \uc2e4\uc81c: 1(Sports)\n",
            "[SUCCESS] \uc608\uce21: 0(World), \uc2e4\uc81c: 0(World)\n",
            "[FAIL] \uc608\uce21: 1(Sports), \uc2e4\uc81c: 0(World)\n",
            "[SUCCESS] \uc608\uce21: 0(World), \uc2e4\uc81c: 0(World)\n",
            "[SUCCESS] \uc608\uce21: 1(Sports), \uc2e4\uc81c: 1(Sports)\n",
            "[SUCCESS] \uc608\uce21: 2(Business), \uc2e4\uc81c: 2(Business)\n",
            "[FAIL] \uc608\uce21: 3(Sci/Tech), \uc2e4\uc81c: 2(Business)\n",
            "[SUCCESS] \uc608\uce21: 0(World), \uc2e4\uc81c: 0(World)\n",
            "[SUCCESS] \uc608\uce21: 0(World), \uc2e4\uc81c: 0(World)\n",
            "[SUCCESS] \uc608\uce21: 2(Business), \uc2e4\uc81c: 2(Business)\n",
            "[SUCCESS] \uc608\uce21: 0(World), \uc2e4\uc81c: 0(World)\n",
            "[FAIL] \uc608\uce21: 1(Sports), \uc2e4\uc81c: 0(World)\n",
            "[SUCCESS] \uc608\uce21: 3(Sci/Tech), \uc2e4\uc81c: 3(Sci/Tech)\n",
            "[SUCCESS] \uc608\uce21: 0(World), \uc2e4\uc81c: 0(World)\n",
            "[FAIL] \uc608\uce21: 3(Sci/Tech), \uc2e4\uc81c: 2(Business)\n",
            "[SUCCESS] \uc608\uce21: 3(Sci/Tech), \uc2e4\uc81c: 3(Sci/Tech)\n",
            "[SUCCESS] \uc608\uce21: 2(Business), \uc2e4\uc81c: 2(Business)\n",
            "[FAIL] \uc608\uce21: 0(World), \uc2e4\uc81c: 1(Sports)\n",
            "[SUCCESS] \uc608\uce21: 1(Sports), \uc2e4\uc81c: 1(Sports)\n",
            "[SUCCESS] \uc608\uce21: 1(Sports), \uc2e4\uc81c: 1(Sports)\n",
            "[SUCCESS] \uc608\uce21: 2(Business), \uc2e4\uc81c: 2(Business)\n",
            "[SUCCESS] \uc608\uce21: 0(World), \uc2e4\uc81c: 0(World)\n",
            "[SUCCESS] \uc608\uce21: 2(Business), \uc2e4\uc81c: 2(Business)\n",
            "[SUCCESS] \uc608\uce21: 1(Sports), \uc2e4\uc81c: 1(Sports)\n",
            "[SUCCESS] \uc608\uce21: 2(Business), \uc2e4\uc81c: 2(Business)\n",
            "[SUCCESS] \uc608\uce21: 3(Sci/Tech), \uc2e4\uc81c: 3(Sci/Tech)\n",
            "[FAIL] \uc608\uce21: 3(Sci/Tech), \uc2e4\uc81c: 2(Business)\n",
            "[SUCCESS] \uc608\uce21: 0(World), \uc2e4\uc81c: 0(World)\n",
            "[SUCCESS] \uc608\uce21: 1(Sports), \uc2e4\uc81c: 1(Sports)\n",
            "[FAIL] \uc608\uce21: 2(Business), \uc2e4\uc81c: 0(World)\n",
            "[SUCCESS] \uc608\uce21: 1(Sports), \uc2e4\uc81c: 1(Sports)\n",
            "[SUCCESS] \uc608\uce21: 0(World), \uc2e4\uc81c: 0(World)\n",
            "[SUCCESS] \uc608\uce21: 3(Sci/Tech), \uc2e4\uc81c: 3(Sci/Tech)\n",
            "[FAIL] \uc608\uce21: 3(Sci/Tech), \uc2e4\uc81c: 2(Business)\n",
            "[SUCCESS] \uc608\uce21: 3(Sci/Tech), \uc2e4\uc81c: 3(Sci/Tech)\n",
            "[SUCCESS] \uc608\uce21: 3(Sci/Tech), \uc2e4\uc81c: 3(Sci/Tech)\n",
            "[SUCCESS] \uc608\uce21: 3(Sci/Tech), \uc2e4\uc81c: 3(Sci/Tech)\n",
            "[SUCCESS] \uc608\uce21: 3(Sci/Tech), \uc2e4\uc81c: 3(Sci/Tech)\n",
            "[SUCCESS] \uc608\uce21: 1(Sports), \uc2e4\uc81c: 1(Sports)\n",
            "[SUCCESS] \uc608\uce21: 3(Sci/Tech), \uc2e4\uc81c: 3(Sci/Tech)\n",
            "[SUCCESS] \uc608\uce21: 3(Sci/Tech), \uc2e4\uc81c: 3(Sci/Tech)\n",
            "[SUCCESS] \uc608\uce21: 2(Business), \uc2e4\uc81c: 2(Business)\n",
            "[SUCCESS] \uc608\uce21: 1(Sports), \uc2e4\uc81c: 1(Sports)\n",
            "[FAIL] \uc608\uce21: 2(Business), \uc2e4\uc81c: 0(World)\n",
            "[SUCCESS] \uc608\uce21: 1(Sports), \uc2e4\uc81c: 1(Sports)\n",
            "[SUCCESS] \uc608\uce21: 3(Sci/Tech), \uc2e4\uc81c: 3(Sci/Tech)\n",
            "[SUCCESS] \uc608\uce21: 0(World), \uc2e4\uc81c: 0(World)\n",
            "[SUCCESS] \uc608\uce21: 3(Sci/Tech), \uc2e4\uc81c: 3(Sci/Tech)\n",
            "[FAIL] \uc608\uce21: 3(Sci/Tech), \uc2e4\uc81c: 2(Business)\n",
            "[FAIL] \uc608\uce21: 0(World), \uc2e4\uc81c: 1(Sports)\n",
            "[SUCCESS] \uc608\uce21: 1(Sports), \uc2e4\uc81c: 1(Sports)\n",
            "[SUCCESS] \uc608\uce21: 1(Sports), \uc2e4\uc81c: 1(Sports)\n",
            "[SUCCESS] \uc608\uce21: 0(World), \uc2e4\uc81c: 0(World)\n",
            "[SUCCESS] \uc608\uce21: 0(World), \uc2e4\uc81c: 0(World)\n",
            "[SUCCESS] \uc608\uce21: 0(World), \uc2e4\uc81c: 0(World)\n",
            "[SUCCESS] \uc608\uce21: 1(Sports), \uc2e4\uc81c: 1(Sports)\n",
            "[SUCCESS] \uc608\uce21: 0(World), \uc2e4\uc81c: 0(World)\n",
            "[SUCCESS] \uc608\uce21: 1(Sports), \uc2e4\uc81c: 1(Sports)\n",
            "[SUCCESS] \uc608\uce21: 1(Sports), \uc2e4\uc81c: 1(Sports)\n",
            "[SUCCESS] \uc608\uce21: 0(World), \uc2e4\uc81c: 0(World)\n",
            "[SUCCESS] \uc608\uce21: 1(Sports), \uc2e4\uc81c: 1(Sports)\n",
            "[SUCCESS] \uc608\uce21: 1(Sports), \uc2e4\uc81c: 1(Sports)\n",
            "[SUCCESS] \uc608\uce21: 0(World), \uc2e4\uc81c: 0(World)\n",
            "[SUCCESS] \uc608\uce21: 1(Sports), \uc2e4\uc81c: 1(Sports)\n",
            "[SUCCESS] \uc608\uce21: 0(World), \uc2e4\uc81c: 0(World)\n",
            "[SUCCESS] \uc608\uce21: 1(Sports), \uc2e4\uc81c: 1(Sports)\n",
            "[SUCCESS] \uc608\uce21: 0(World), \uc2e4\uc81c: 0(World)\n",
            "[SUCCESS] \uc608\uce21: 0(World), \uc2e4\uc81c: 0(World)\n",
            "[SUCCESS] \uc608\uce21: 0(World), \uc2e4\uc81c: 0(World)\n",
            "[SUCCESS] \uc608\uce21: 1(Sports), \uc2e4\uc81c: 1(Sports)\n",
            "[SUCCESS] \uc608\uce21: 2(Business), \uc2e4\uc81c: 2(Business)\n",
            "[SUCCESS] \uc608\uce21: 1(Sports), \uc2e4\uc81c: 1(Sports)\n",
            "[FAIL] \uc608\uce21: 0(World), \uc2e4\uc81c: 1(Sports)\n",
            "[SUCCESS] \uc608\uce21: 1(Sports), \uc2e4\uc81c: 1(Sports)\n",
            "[SUCCESS] \uc608\uce21: 0(World), \uc2e4\uc81c: 0(World)\n",
            "[SUCCESS] \uc608\uce21: 1(Sports), \uc2e4\uc81c: 1(Sports)\n",
            "[SUCCESS] \uc608\uce21: 0(World), \uc2e4\uc81c: 0(World)\n",
            "[FAIL] \uc608\uce21: 3(Sci/Tech), \uc2e4\uc81c: 0(World)\n",
            "[FAIL] \uc608\uce21: 3(Sci/Tech), \uc2e4\uc81c: 0(World)\n",
            "[SUCCESS] \uc608\uce21: 2(Business), \uc2e4\uc81c: 2(Business)\n",
            "[SUCCESS] \uc608\uce21: 1(Sports), \uc2e4\uc81c: 1(Sports)\n",
            "[SUCCESS] \uc608\uce21: 1(Sports), \uc2e4\uc81c: 1(Sports)\n",
            "[SUCCESS] \uc608\uce21: 0(World), \uc2e4\uc81c: 0(World)\n",
            "[SUCCESS] \uc608\uce21: 1(Sports), \uc2e4\uc81c: 1(Sports)\n",
            "[SUCCESS] \uc608\uce21: 2(Business), \uc2e4\uc81c: 2(Business)\n",
            "[SUCCESS] \uc608\uce21: 3(Sci/Tech), \uc2e4\uc81c: 3(Sci/Tech)\n",
            "[SUCCESS] \uc608\uce21: 0(World), \uc2e4\uc81c: 0(World)\n",
            "[SUCCESS] \uc608\uce21: 0(World), \uc2e4\uc81c: 0(World)\n",
            "[FAIL] \uc608\uce21: 3(Sci/Tech), \uc2e4\uc81c: 2(Business)\n",
            "[SUCCESS] \uc608\uce21: 2(Business), \uc2e4\uc81c: 2(Business)\n",
            "[SUCCESS] \uc608\uce21: 2(Business), \uc2e4\uc81c: 2(Business)\n",
            "[SUCCESS] \uc608\uce21: 1(Sports), \uc2e4\uc81c: 1(Sports)\n",
            "[SUCCESS] \uc608\uce21: 0(World), \uc2e4\uc81c: 0(World)\n",
            "[SUCCESS] \uc608\uce21: 3(Sci/Tech), \uc2e4\uc81c: 3(Sci/Tech)\n",
            "[SUCCESS] \uc608\uce21: 3(Sci/Tech), \uc2e4\uc81c: 3(Sci/Tech)\n",
            "[SUCCESS] \uc608\uce21: 2(Business), \uc2e4\uc81c: 2(Business)\n",
            "[SUCCESS] \uc608\uce21: 3(Sci/Tech), \uc2e4\uc81c: 3(Sci/Tech)\n",
            "[SUCCESS] \uc608\uce21: 0(World), \uc2e4\uc81c: 0(World)\n",
            "[SUCCESS] \uc608\uce21: 0(World), \uc2e4\uc81c: 0(World)\n",
            "[SUCCESS] \uc608\uce21: 3(Sci/Tech), \uc2e4\uc81c: 3(Sci/Tech)\n",
            "[SUCCESS] \uc608\uce21: 1(Sports), \uc2e4\uc81c: 1(Sports)\n",
            "[SUCCESS] \uc608\uce21: 3(Sci/Tech), \uc2e4\uc81c: 3(Sci/Tech)\n",
            "[SUCCESS] \uc608\uce21: 1(Sports), \uc2e4\uc81c: 1(Sports)\n",
            "[SUCCESS] \uc608\uce21: 2(Business), \uc2e4\uc81c: 2(Business)\n",
            "[SUCCESS] \uc608\uce21: 1(Sports), \uc2e4\uc81c: 1(Sports)\n",
            "[SUCCESS] \uc608\uce21: 1(Sports), \uc2e4\uc81c: 1(Sports)\n",
            "[SUCCESS] \uc608\uce21: 3(Sci/Tech), \uc2e4\uc81c: 3(Sci/Tech)\n",
            "[FAIL] \uc608\uce21: 0(World), \uc2e4\uc81c: 2(Business)\n",
            "[SUCCESS] \uc608\uce21: 0(World), \uc2e4\uc81c: 0(World)\n",
            "[SUCCESS] \uc608\uce21: 3(Sci/Tech), \uc2e4\uc81c: 3(Sci/Tech)\n",
            "[SUCCESS] \uc608\uce21: 0(World), \uc2e4\uc81c: 0(World)\n",
            "[SUCCESS] \uc608\uce21: 1(Sports), \uc2e4\uc81c: 1(Sports)\n",
            "[SUCCESS] \uc608\uce21: 3(Sci/Tech), \uc2e4\uc81c: 3(Sci/Tech)\n",
            "[SUCCESS] \uc608\uce21: 3(Sci/Tech), \uc2e4\uc81c: 3(Sci/Tech)\n",
            "[SUCCESS] \uc608\uce21: 0(World), \uc2e4\uc81c: 0(World)\n",
            "[SUCCESS] \uc608\uce21: 0(World), \uc2e4\uc81c: 0(World)\n",
            "[SUCCESS] \uc608\uce21: 0(World), \uc2e4\uc81c: 0(World)\n",
            "[SUCCESS] \uc608\uce21: 2(Business), \uc2e4\uc81c: 2(Business)\n",
            "[SUCCESS] \uc608\uce21: 2(Business), \uc2e4\uc81c: 2(Business)\n",
            "[FAIL] \uc608\uce21: 2(Business), \uc2e4\uc81c: 0(World)\n",
            "[SUCCESS] \uc608\uce21: 1(Sports), \uc2e4\uc81c: 1(Sports)\n",
            "[SUCCESS] \uc608\uce21: 2(Business), \uc2e4\uc81c: 2(Business)\n",
            "[SUCCESS] \uc608\uce21: 1(Sports), \uc2e4\uc81c: 1(Sports)\n",
            "[SUCCESS] \uc608\uce21: 3(Sci/Tech), \uc2e4\uc81c: 3(Sci/Tech)\n",
            "[SUCCESS] \uc608\uce21: 3(Sci/Tech), \uc2e4\uc81c: 3(Sci/Tech)\n",
            "[SUCCESS] \uc608\uce21: 3(Sci/Tech), \uc2e4\uc81c: 3(Sci/Tech)\n",
            "[SUCCESS] \uc608\uce21: 0(World), \uc2e4\uc81c: 0(World)\n",
            "[SUCCESS] \uc608\uce21: 1(Sports), \uc2e4\uc81c: 1(Sports)\n",
            "[SUCCESS] \uc608\uce21: 1(Sports), \uc2e4\uc81c: 1(Sports)\n",
            "[SUCCESS] \uc608\uce21: 1(Sports), \uc2e4\uc81c: 1(Sports)\n",
            "[FAIL] \uc608\uce21: 2(Business), \uc2e4\uc81c: 3(Sci/Tech)\n",
            "[SUCCESS] \uc608\uce21: 1(Sports), \uc2e4\uc81c: 1(Sports)\n",
            "[SUCCESS] \uc608\uce21: 3(Sci/Tech), \uc2e4\uc81c: 3(Sci/Tech)\n",
            "[SUCCESS] \uc608\uce21: 1(Sports), \uc2e4\uc81c: 1(Sports)\n",
            "[SUCCESS] \uc608\uce21: 0(World), \uc2e4\uc81c: 0(World)\n",
            "[SUCCESS] \uc608\uce21: 1(Sports), \uc2e4\uc81c: 1(Sports)\n",
            "[FAIL] \uc608\uce21: 0(World), \uc2e4\uc81c: 1(Sports)\n",
            "[SUCCESS] \uc608\uce21: 1(Sports), \uc2e4\uc81c: 1(Sports)\n",
            "[SUCCESS] \uc608\uce21: 3(Sci/Tech), \uc2e4\uc81c: 3(Sci/Tech)\n",
            "[SUCCESS] \uc608\uce21: 2(Business), \uc2e4\uc81c: 2(Business)\n",
            "[SUCCESS] \uc608\uce21: 2(Business), \uc2e4\uc81c: 2(Business)\n",
            "[FAIL] \uc608\uce21: 2(Business), \uc2e4\uc81c: 3(Sci/Tech)\n",
            "[SUCCESS] \uc608\uce21: 1(Sports), \uc2e4\uc81c: 1(Sports)\n",
            "[SUCCESS] \uc608\uce21: 1(Sports), \uc2e4\uc81c: 1(Sports)\n",
            "[SUCCESS] \uc608\uce21: 0(World), \uc2e4\uc81c: 0(World)\n",
            "[FAIL] \uc608\uce21: 3(Sci/Tech), \uc2e4\uc81c: 2(Business)\n",
            "[SUCCESS] \uc608\uce21: 1(Sports), \uc2e4\uc81c: 1(Sports)\n",
            "[SUCCESS] \uc608\uce21: 2(Business), \uc2e4\uc81c: 2(Business)\n",
            "[SUCCESS] \uc608\uce21: 2(Business), \uc2e4\uc81c: 2(Business)\n",
            "[SUCCESS] \uc608\uce21: 0(World), \uc2e4\uc81c: 0(World)\n",
            "[SUCCESS] \uc608\uce21: 1(Sports), \uc2e4\uc81c: 1(Sports)\n",
            "[SUCCESS] \uc608\uce21: 2(Business), \uc2e4\uc81c: 2(Business)\n",
            "[SUCCESS] \uc608\uce21: 0(World), \uc2e4\uc81c: 0(World)\n",
            "[SUCCESS] \uc608\uce21: 1(Sports), \uc2e4\uc81c: 1(Sports)\n",
            "[FAIL] \uc608\uce21: 0(World), \uc2e4\uc81c: 1(Sports)\n",
            "[SUCCESS] \uc608\uce21: 2(Business), \uc2e4\uc81c: 2(Business)\n",
            "[SUCCESS] \uc608\uce21: 3(Sci/Tech), \uc2e4\uc81c: 3(Sci/Tech)\n",
            "[FAIL] \uc608\uce21: 3(Sci/Tech), \uc2e4\uc81c: 2(Business)\n",
            "[SUCCESS] \uc608\uce21: 1(Sports), \uc2e4\uc81c: 1(Sports)\n",
            "[SUCCESS] \uc608\uce21: 2(Business), \uc2e4\uc81c: 2(Business)\n",
            "[SUCCESS] \uc608\uce21: 1(Sports), \uc2e4\uc81c: 1(Sports)\n",
            "[SUCCESS] \uc608\uce21: 0(World), \uc2e4\uc81c: 0(World)\n",
            "[SUCCESS] \uc608\uce21: 2(Business), \uc2e4\uc81c: 2(Business)\n",
            "[SUCCESS] \uc608\uce21: 3(Sci/Tech), \uc2e4\uc81c: 3(Sci/Tech)\n",
            "[SUCCESS] \uc608\uce21: 1(Sports), \uc2e4\uc81c: 1(Sports)\n",
            "[SUCCESS] \uc608\uce21: 1(Sports), \uc2e4\uc81c: 1(Sports)\n",
            "[SUCCESS] \uc608\uce21: 3(Sci/Tech), \uc2e4\uc81c: 3(Sci/Tech)\n",
            "[SUCCESS] \uc608\uce21: 2(Business), \uc2e4\uc81c: 2(Business)\n",
            "[SUCCESS] \uc608\uce21: 2(Business), \uc2e4\uc81c: 2(Business)\n",
            "[SUCCESS] \uc608\uce21: 3(Sci/Tech), \uc2e4\uc81c: 3(Sci/Tech)\n",
            "[SUCCESS] \uc608\uce21: 3(Sci/Tech), \uc2e4\uc81c: 3(Sci/Tech)\n",
            "[FAIL] \uc608\uce21: 2(Business), \uc2e4\uc81c: 3(Sci/Tech)\n",
            "[SUCCESS] \uc608\uce21: 0(World), \uc2e4\uc81c: 0(World)\n",
            "[SUCCESS] \uc608\uce21: 2(Business), \uc2e4\uc81c: 2(Business)\n",
            "[SUCCESS] \uc608\uce21: 0(World), \uc2e4\uc81c: 0(World)\n",
            "[SUCCESS] \uc608\uce21: 1(Sports), \uc2e4\uc81c: 1(Sports)\n",
            "[SUCCESS] \uc608\uce21: 2(Business), \uc2e4\uc81c: 2(Business)\n",
            "[SUCCESS] \uc608\uce21: 2(Business), \uc2e4\uc81c: 2(Business)\n",
            "[SUCCESS] \uc608\uce21: 3(Sci/Tech), \uc2e4\uc81c: 3(Sci/Tech)\n",
            "[SUCCESS] \uc608\uce21: 2(Business), \uc2e4\uc81c: 2(Business)\n",
            "[SUCCESS] \uc608\uce21: 3(Sci/Tech), \uc2e4\uc81c: 3(Sci/Tech)\n",
            "[FAIL] \uc608\uce21: 2(Business), \uc2e4\uc81c: 3(Sci/Tech)\n",
            "[SUCCESS] \uc608\uce21: 3(Sci/Tech), \uc2e4\uc81c: 3(Sci/Tech)\n",
            "[SUCCESS] \uc608\uce21: 1(Sports), \uc2e4\uc81c: 1(Sports)\n",
            "[SUCCESS] \uc608\uce21: 0(World), \uc2e4\uc81c: 0(World)\n",
            "[FAIL] \uc608\uce21: 2(Business), \uc2e4\uc81c: 3(Sci/Tech)\n",
            "[SUCCESS] \uc608\uce21: 3(Sci/Tech), \uc2e4\uc81c: 3(Sci/Tech)\n",
            "[SUCCESS] \uc608\uce21: 3(Sci/Tech), \uc2e4\uc81c: 3(Sci/Tech)\n",
            "[FAIL] \uc608\uce21: 0(World), \uc2e4\uc81c: 3(Sci/Tech)\n",
            "[SUCCESS] \uc608\uce21: 1(Sports), \uc2e4\uc81c: 1(Sports)\n",
            "[SUCCESS] \uc608\uce21: 3(Sci/Tech), \uc2e4\uc81c: 3(Sci/Tech)\n",
            "[SUCCESS] \uc608\uce21: 1(Sports), \uc2e4\uc81c: 1(Sports)\n",
            "[SUCCESS] \uc608\uce21: 1(Sports), \uc2e4\uc81c: 1(Sports)\n",
            "[SUCCESS] \uc608\uce21: 1(Sports), \uc2e4\uc81c: 1(Sports)\n",
            "[SUCCESS] \uc608\uce21: 0(World), \uc2e4\uc81c: 0(World)\n",
            "[SUCCESS] \uc608\uce21: 2(Business), \uc2e4\uc81c: 2(Business)\n",
            "[SUCCESS] \uc608\uce21: 3(Sci/Tech), \uc2e4\uc81c: 3(Sci/Tech)\n",
            "[SUCCESS] \uc608\uce21: 1(Sports), \uc2e4\uc81c: 1(Sports)\n",
            "[SUCCESS] \uc608\uce21: 3(Sci/Tech), \uc2e4\uc81c: 3(Sci/Tech)\n",
            "[SUCCESS] \uc608\uce21: 3(Sci/Tech), \uc2e4\uc81c: 3(Sci/Tech)\n",
            "[SUCCESS] \uc608\uce21: 1(Sports), \uc2e4\uc81c: 1(Sports)\n",
            "[FAIL] \uc608\uce21: 0(World), \uc2e4\uc81c: 2(Business)\n",
            "[SUCCESS] \uc608\uce21: 3(Sci/Tech), \uc2e4\uc81c: 3(Sci/Tech)\n",
            "[SUCCESS] \uc608\uce21: 2(Business), \uc2e4\uc81c: 2(Business)\n",
            "[SUCCESS] \uc608\uce21: 1(Sports), \uc2e4\uc81c: 1(Sports)\n",
            "[SUCCESS] \uc608\uce21: 1(Sports), \uc2e4\uc81c: 1(Sports)\n",
            "[SUCCESS] \uc608\uce21: 3(Sci/Tech), \uc2e4\uc81c: 3(Sci/Tech)\n",
            "[SUCCESS] \uc608\uce21: 1(Sports), \uc2e4\uc81c: 1(Sports)\n",
            "[SUCCESS] \uc608\uce21: 0(World), \uc2e4\uc81c: 0(World)\n",
            "[SUCCESS] \uc608\uce21: 0(World), \uc2e4\uc81c: 0(World)\n",
            "[SUCCESS] \uc608\uce21: 2(Business), \uc2e4\uc81c: 2(Business)\n",
            "[FAIL] \uc608\uce21: 0(World), \uc2e4\uc81c: 2(Business)\n",
            "[SUCCESS] \uc608\uce21: 1(Sports), \uc2e4\uc81c: 1(Sports)\n",
            "[SUCCESS] \uc608\uce21: 1(Sports), \uc2e4\uc81c: 1(Sports)\n",
            "[SUCCESS] \uc608\uce21: 3(Sci/Tech), \uc2e4\uc81c: 3(Sci/Tech)\n",
            "[SUCCESS] \uc608\uce21: 3(Sci/Tech), \uc2e4\uc81c: 3(Sci/Tech)\n",
            "[SUCCESS] \uc608\uce21: 3(Sci/Tech), \uc2e4\uc81c: 3(Sci/Tech)\n",
            "[SUCCESS] \uc608\uce21: 1(Sports), \uc2e4\uc81c: 1(Sports)\n",
            "[FAIL] \uc608\uce21: 2(Business), \uc2e4\uc81c: 0(World)\n",
            "[SUCCESS] \uc608\uce21: 0(World), \uc2e4\uc81c: 0(World)\n",
            "[SUCCESS] \uc608\uce21: 3(Sci/Tech), \uc2e4\uc81c: 3(Sci/Tech)\n",
            "[SUCCESS] \uc608\uce21: 1(Sports), \uc2e4\uc81c: 1(Sports)\n",
            "[SUCCESS] \uc608\uce21: 2(Business), \uc2e4\uc81c: 2(Business)\n",
            "[SUCCESS] \uc608\uce21: 1(Sports), \uc2e4\uc81c: 1(Sports)\n",
            "[SUCCESS] \uc608\uce21: 2(Business), \uc2e4\uc81c: 2(Business)\n",
            "[SUCCESS] \uc608\uce21: 2(Business), \uc2e4\uc81c: 2(Business)\n",
            "[SUCCESS] \uc608\uce21: 2(Business), \uc2e4\uc81c: 2(Business)\n",
            "[SUCCESS] \uc608\uce21: 2(Business), \uc2e4\uc81c: 2(Business)\n",
            "[FAIL] \uc608\uce21: 0(World), \uc2e4\uc81c: 1(Sports)\n",
            "[SUCCESS] \uc608\uce21: 3(Sci/Tech), \uc2e4\uc81c: 3(Sci/Tech)\n",
            "[SUCCESS] \uc608\uce21: 3(Sci/Tech), \uc2e4\uc81c: 3(Sci/Tech)\n",
            "[SUCCESS] \uc608\uce21: 1(Sports), \uc2e4\uc81c: 1(Sports)\n",
            "[FAIL] \uc608\uce21: 3(Sci/Tech), \uc2e4\uc81c: 2(Business)\n",
            "[FAIL] \uc608\uce21: 3(Sci/Tech), \uc2e4\uc81c: 2(Business)\n",
            "[SUCCESS] \uc608\uce21: 1(Sports), \uc2e4\uc81c: 1(Sports)\n",
            "[SUCCESS] \uc608\uce21: 3(Sci/Tech), \uc2e4\uc81c: 3(Sci/Tech)\n",
            "[FAIL] \uc608\uce21: 3(Sci/Tech), \uc2e4\uc81c: 2(Business)\n",
            "[SUCCESS] \uc608\uce21: 2(Business), \uc2e4\uc81c: 2(Business)\n",
            "[SUCCESS] \uc608\uce21: 0(World), \uc2e4\uc81c: 0(World)\n",
            "[FAIL] \uc608\uce21: 2(Business), \uc2e4\uc81c: 0(World)\n",
            "[SUCCESS] \uc608\uce21: 2(Business), \uc2e4\uc81c: 2(Business)\n",
            "[SUCCESS] \uc608\uce21: 1(Sports), \uc2e4\uc81c: 1(Sports)\n",
            "[SUCCESS] \uc608\uce21: 2(Business), \uc2e4\uc81c: 2(Business)\n",
            "[SUCCESS] \uc608\uce21: 2(Business), \uc2e4\uc81c: 2(Business)\n",
            "[SUCCESS] \uc608\uce21: 0(World), \uc2e4\uc81c: 0(World)\n",
            "[SUCCESS] \uc608\uce21: 1(Sports), \uc2e4\uc81c: 1(Sports)\n",
            "[SUCCESS] \uc608\uce21: 3(Sci/Tech), \uc2e4\uc81c: 3(Sci/Tech)\n",
            "[SUCCESS] \uc608\uce21: 1(Sports), \uc2e4\uc81c: 1(Sports)\n",
            "[SUCCESS] \uc608\uce21: 3(Sci/Tech), \uc2e4\uc81c: 3(Sci/Tech)\n",
            "[SUCCESS] \uc608\uce21: 0(World), \uc2e4\uc81c: 0(World)\n",
            "[SUCCESS] \uc608\uce21: 0(World), \uc2e4\uc81c: 0(World)\n",
            "[SUCCESS] \uc608\uce21: 3(Sci/Tech), \uc2e4\uc81c: 3(Sci/Tech)\n",
            "[FAIL] \uc608\uce21: 3(Sci/Tech), \uc2e4\uc81c: 2(Business)\n",
            "[SUCCESS] \uc608\uce21: 3(Sci/Tech), \uc2e4\uc81c: 3(Sci/Tech)\n",
            "[SUCCESS] \uc608\uce21: 1(Sports), \uc2e4\uc81c: 1(Sports)\n",
            "[SUCCESS] \uc608\uce21: 0(World), \uc2e4\uc81c: 0(World)\n",
            "[SUCCESS] \uc608\uce21: 0(World), \uc2e4\uc81c: 0(World)\n",
            "[SUCCESS] \uc608\uce21: 1(Sports), \uc2e4\uc81c: 1(Sports)\n",
            "[SUCCESS] \uc608\uce21: 0(World), \uc2e4\uc81c: 0(World)\n",
            "[FAIL] \uc608\uce21: 0(World), \uc2e4\uc81c: 2(Business)\n",
            "[SUCCESS] \uc608\uce21: 2(Business), \uc2e4\uc81c: 2(Business)\n",
            "[SUCCESS] \uc608\uce21: 1(Sports), \uc2e4\uc81c: 1(Sports)\n",
            "[SUCCESS] \uc608\uce21: 1(Sports), \uc2e4\uc81c: 1(Sports)\n",
            "[SUCCESS] \uc608\uce21: 3(Sci/Tech), \uc2e4\uc81c: 3(Sci/Tech)\n",
            "[SUCCESS] \uc608\uce21: 1(Sports), \uc2e4\uc81c: 1(Sports)\n",
            "[SUCCESS] \uc608\uce21: 0(World), \uc2e4\uc81c: 0(World)\n",
            "[SUCCESS] \uc608\uce21: 1(Sports), \uc2e4\uc81c: 1(Sports)\n",
            "[FAIL] \uc608\uce21: 0(World), \uc2e4\uc81c: 1(Sports)\n",
            "[FAIL] \uc608\uce21: 2(Business), \uc2e4\uc81c: 3(Sci/Tech)\n",
            "[FAIL] \uc608\uce21: 2(Business), \uc2e4\uc81c: 3(Sci/Tech)\n",
            "[SUCCESS] \uc608\uce21: 1(Sports), \uc2e4\uc81c: 1(Sports)\n",
            "[FAIL] \uc608\uce21: 1(Sports), \uc2e4\uc81c: 0(World)\n",
            "[SUCCESS] \uc608\uce21: 2(Business), \uc2e4\uc81c: 2(Business)\n",
            "[SUCCESS] \uc608\uce21: 1(Sports), \uc2e4\uc81c: 1(Sports)\n",
            "[SUCCESS] \uc608\uce21: 0(World), \uc2e4\uc81c: 0(World)\n",
            "[SUCCESS] \uc608\uce21: 0(World), \uc2e4\uc81c: 0(World)\n",
            "[SUCCESS] \uc608\uce21: 1(Sports), \uc2e4\uc81c: 1(Sports)\n",
            "[SUCCESS] \uc608\uce21: 0(World), \uc2e4\uc81c: 0(World)\n",
            "[FAIL] \uc608\uce21: 1(Sports), \uc2e4\uc81c: 0(World)\n",
            "[SUCCESS] \uc608\uce21: 1(Sports), \uc2e4\uc81c: 1(Sports)\n",
            "[SUCCESS] \uc608\uce21: 2(Business), \uc2e4\uc81c: 2(Business)\n",
            "[SUCCESS] \uc608\uce21: 1(Sports), \uc2e4\uc81c: 1(Sports)\n",
            "[SUCCESS] \uc608\uce21: 1(Sports), \uc2e4\uc81c: 1(Sports)\n",
            "[SUCCESS] \uc608\uce21: 1(Sports), \uc2e4\uc81c: 1(Sports)\n",
            "[SUCCESS] \uc608\uce21: 0(World), \uc2e4\uc81c: 0(World)\n",
            "[SUCCESS] \uc608\uce21: 2(Business), \uc2e4\uc81c: 2(Business)\n",
            "[FAIL] \uc608\uce21: 2(Business), \uc2e4\uc81c: 0(World)\n",
            "[SUCCESS] \uc608\uce21: 0(World), \uc2e4\uc81c: 0(World)\n",
            "[SUCCESS] \uc608\uce21: 3(Sci/Tech), \uc2e4\uc81c: 3(Sci/Tech)\n",
            "[SUCCESS] \uc608\uce21: 1(Sports), \uc2e4\uc81c: 1(Sports)\n",
            "[SUCCESS] \uc608\uce21: 2(Business), \uc2e4\uc81c: 2(Business)\n",
            "[SUCCESS] \uc608\uce21: 0(World), \uc2e4\uc81c: 0(World)\n",
            "[FAIL] \uc608\uce21: 1(Sports), \uc2e4\uc81c: 0(World)\n",
            "[SUCCESS] \uc608\uce21: 1(Sports), \uc2e4\uc81c: 1(Sports)\n",
            "[SUCCESS] \uc608\uce21: 0(World), \uc2e4\uc81c: 0(World)\n",
            "[FAIL] \uc608\uce21: 1(Sports), \uc2e4\uc81c: 0(World)\n",
            "[SUCCESS] \uc608\uce21: 1(Sports), \uc2e4\uc81c: 1(Sports)\n",
            "[SUCCESS] \uc608\uce21: 1(Sports), \uc2e4\uc81c: 1(Sports)\n",
            "[SUCCESS] \uc608\uce21: 3(Sci/Tech), \uc2e4\uc81c: 3(Sci/Tech)\n",
            "[SUCCESS] \uc608\uce21: 1(Sports), \uc2e4\uc81c: 1(Sports)\n",
            "[SUCCESS] \uc608\uce21: 1(Sports), \uc2e4\uc81c: 1(Sports)\n",
            "[SUCCESS] \uc608\uce21: 2(Business), \uc2e4\uc81c: 2(Business)\n",
            "[SUCCESS] \uc608\uce21: 0(World), \uc2e4\uc81c: 0(World)\n"
          ]
        }
      ]
    }
  ],
  "metadata": {
    "accelerator": "GPU",
    "colab": {
      "gpuType": "T4",
      "provenance": [
        {
          "file_id": "1Q8Co2FWHxjftQw3hZmk4SjF3lyse4MZR",
          "timestamp": 1743839977074
        }
      ]
    },
    "kernelspec": {
      "display_name": "Python 3",
      "name": "python3"
    },
    "language_info": {
      "name": "python"
    }
  },
  "nbformat": 4,
  "nbformat_minor": 0
}